{
 "cells": [
  {
   "cell_type": "code",
   "execution_count": 1,
   "metadata": {
    "_cell_guid": "b1076dfc-b9ad-4769-8c92-a6c4dae69d19",
    "_uuid": "8f2839f25d086af736a60e9eeb907d3b93b6e0e5",
    "execution": {
     "iopub.execute_input": "2024-05-05T13:11:37.162726Z",
     "iopub.status.busy": "2024-05-05T13:11:37.161727Z",
     "iopub.status.idle": "2024-05-05T13:11:38.294944Z",
     "shell.execute_reply": "2024-05-05T13:11:38.293942Z",
     "shell.execute_reply.started": "2024-05-05T13:11:37.162595Z"
    }
   },
   "outputs": [
    {
     "name": "stdout",
     "output_type": "stream",
     "text": [
      "/kaggle/input/space-objects-around-black-holes-esa/NEAR THE BLACK HOLE/SAGITTARIUS-A/ASTRO_IMAGING_HST_OPTICAL17.csv\n",
      "/kaggle/input/space-objects-around-black-holes-esa/NEAR THE BLACK HOLE/SAGITTARIUS-A/summary.txt\n",
      "/kaggle/input/space-objects-around-black-holes-esa/NEAR THE BLACK HOLE/SAGITTARIUS-A/HST-OPTICAL/hst_07909_rb_wfpc2_f606w_pc_drz.fits\n",
      "/kaggle/input/space-objects-around-black-holes-esa/NEAR THE BLACK HOLE/SAGITTARIUS-A/HST-OPTICAL/hst_07909_rb_wfpc2_f606w_wf_drz.fits\n",
      "/kaggle/input/space-objects-around-black-holes-esa/NEAR THE BLACK HOLE/SAGITTARIUS-A/HST-OPTICAL/hst_09598_3a_wfpc2_f656n_pc_drz.fits\n",
      "/kaggle/input/space-objects-around-black-holes-esa/NEAR THE BLACK HOLE/SAGITTARIUS-A/HST-OPTICAL/hst_09676_x8_wfpc2_f606w_pc_drz.fits\n",
      "/kaggle/input/space-objects-around-black-holes-esa/NEAR THE BLACK HOLE/SAGITTARIUS-A/HST-OPTICAL/hst_09244_9m_wfpc2_f606w_pc_drz.fits\n",
      "/kaggle/input/space-objects-around-black-holes-esa/NEAR THE BLACK HOLE/SOMBRERO/ASTRO_IMAGING_HST_OPTICAL8.csv\n",
      "/kaggle/input/space-objects-around-black-holes-esa/NEAR THE BLACK HOLE/SOMBRERO/summary.txt\n",
      "/kaggle/input/space-objects-around-black-holes-esa/NEAR THE BLACK HOLE/SOMBRERO/HST-OPTICAL/o4d303njq_raw.fits\n",
      "/kaggle/input/space-objects-around-black-holes-esa/NEAR THE BLACK HOLE/SOMBRERO/HST-OPTICAL/hst_9454_14_acs_hrc_f330w_drz.fits\n",
      "/kaggle/input/space-objects-around-black-holes-esa/NEAR THE BLACK HOLE/SOMBRERO/HST-OPTICAL/hst_9454_31_acs_hrc_f330w_drz.fits\n",
      "/kaggle/input/space-objects-around-black-holes-esa/NEAR THE BLACK HOLE/SOMBRERO/HST-OPTICAL/j8ff31021_drz.fits\n",
      "/kaggle/input/space-objects-around-black-holes-esa/NEAR THE BLACK HOLE/SOMBRERO/HST-OPTICAL/j8ff14021_drz.fits\n",
      "/kaggle/input/space-objects-around-black-holes-esa/NEAR THE BLACK HOLE/SOMBRERO/HST-OPTICAL/o4d303nkq_raw.fits\n",
      "/kaggle/input/space-objects-around-black-holes-esa/NEAR THE BLACK HOLE/SOMBRERO/HST-OPTICAL/HST/x0vr0101t/x0vr0101t_c1f.fits\n",
      "/kaggle/input/space-objects-around-black-holes-esa/NEAR THE BLACK HOLE/SOMBRERO/HST-OPTICAL/HST/x0vr0101t/x0vr0101t_c0f.fits\n",
      "/kaggle/input/space-objects-around-black-holes-esa/NEAR THE BLACK HOLE/SOMBRERO/HST-OPTICAL/HST/x0hr0101t/x0hr0101t_c0f.fits\n",
      "/kaggle/input/space-objects-around-black-holes-esa/NEAR THE BLACK HOLE/SOMBRERO/HST-OPTICAL/HST/x0hr0101t/x0hr0101t_c1f.fits\n",
      "/kaggle/input/space-objects-around-black-holes-esa/NEAR THE BLACK HOLE/CENTAURUS-A/ASTRO_IMAGING_HST_OPTICAL13.csv\n",
      "/kaggle/input/space-objects-around-black-holes-esa/NEAR THE BLACK HOLE/CENTAURUS-A/summary.txt\n",
      "/kaggle/input/space-objects-around-black-holes-esa/NEAR THE BLACK HOLE/CENTAURUS-A/HST-OPTICAL/hst_08597_52_wfpc2_f606w_pc_drz.fits\n",
      "/kaggle/input/space-objects-around-black-holes-esa/NEAR THE BLACK HOLE/CENTAURUS-A/HST-OPTICAL/hst_06578_02_wfpc2_f336w_wf_drz.fits\n",
      "/kaggle/input/space-objects-around-black-holes-esa/NEAR THE BLACK HOLE/CENTAURUS-A/HST-OPTICAL/hst_06789_a1_wfpc2_f555w_pc_drz.fits\n",
      "/kaggle/input/space-objects-around-black-holes-esa/NEAR THE BLACK HOLE/CENTAURUS-A/HST-OPTICAL/HST/u3lba101m/u3lba101m_c0f.fits\n",
      "/kaggle/input/space-objects-around-black-holes-esa/NEAR THE BLACK HOLE/CENTAURUS-A/HST-OPTICAL/HST/u3lba101m/u3lba101m_c0m.fits\n",
      "/kaggle/input/space-objects-around-black-holes-esa/NEAR THE BLACK HOLE/CENTAURUS-A/HST-OPTICAL/HST/u3lba101m/u3lba101m_c1f.fits\n",
      "/kaggle/input/space-objects-around-black-holes-esa/NEAR THE BLACK HOLE/CENTAURUS-A/HST-OPTICAL/HST/u3lba101m/u3lba101m_c1m.fits\n",
      "/kaggle/input/space-objects-around-black-holes-esa/NEAR THE BLACK HOLE/CENTAURUS-A/HST-OPTICAL/HST/u3lba10dm/u3lba10dm_c0f.fits\n",
      "/kaggle/input/space-objects-around-black-holes-esa/NEAR THE BLACK HOLE/CENTAURUS-A/HST-OPTICAL/HST/u3lba10dm/u3lba10dm_c0m.fits\n",
      "/kaggle/input/space-objects-around-black-holes-esa/NEAR THE BLACK HOLE/CENTAURUS-A/HST-OPTICAL/HST/u3lba10dm/u3lba10dm_c1m.fits\n",
      "/kaggle/input/space-objects-around-black-holes-esa/NEAR THE BLACK HOLE/CENTAURUS-A/HST-OPTICAL/HST/u3lba10dm/u3lba10dm_c1f.fits\n",
      "/kaggle/input/space-objects-around-black-holes-esa/NEAR THE BLACK HOLE/CENTAURUS-A/HST-OPTICAL/HST/u3lba107m/u3lba107m_c1f.fits\n",
      "/kaggle/input/space-objects-around-black-holes-esa/NEAR THE BLACK HOLE/CENTAURUS-A/HST-OPTICAL/HST/u3lba107m/u3lba107m_c0m.fits\n",
      "/kaggle/input/space-objects-around-black-holes-esa/NEAR THE BLACK HOLE/CENTAURUS-A/HST-OPTICAL/HST/u3lba107m/u3lba107m_c1m.fits\n",
      "/kaggle/input/space-objects-around-black-holes-esa/NEAR THE BLACK HOLE/CENTAURUS-A/HST-OPTICAL/HST/u3lba107m/u3lba107m_c0f.fits\n",
      "/kaggle/input/space-objects-around-black-holes-esa/NEAR THE BLACK HOLE/CENTAURUS-A/HST-OPTICAL/HST/u67n5201r/u67n5201r_c0f.fits\n",
      "/kaggle/input/space-objects-around-black-holes-esa/NEAR THE BLACK HOLE/CENTAURUS-A/HST-OPTICAL/HST/u67n5201r/u67n5201r_c1m.fits\n",
      "/kaggle/input/space-objects-around-black-holes-esa/NEAR THE BLACK HOLE/CENTAURUS-A/HST-OPTICAL/HST/u67n5201r/u67n5201r_c1f.fits\n",
      "/kaggle/input/space-objects-around-black-holes-esa/NEAR THE BLACK HOLE/CENTAURUS-A/HST-OPTICAL/HST/u67n5201r/u67n5201r_c0m.fits\n",
      "/kaggle/input/space-objects-around-black-holes-esa/NEAR THE BLACK HOLE/H1821/summary.txt\n",
      "/kaggle/input/space-objects-around-black-holes-esa/NEAR THE BLACK HOLE/H1821/ASTRO_IMAGING_HST_OPTICAL5.csv\n",
      "/kaggle/input/space-objects-around-black-holes-esa/NEAR THE BLACK HOLE/H1821/HST-OPTICAL/odmj01s4q_raw.fits\n",
      "/kaggle/input/space-objects-around-black-holes-esa/NEAR THE BLACK HOLE/H1821/HST-OPTICAL/odmj53rxq_raw.fits\n",
      "/kaggle/input/space-objects-around-black-holes-esa/NEAR THE BLACK HOLE/H1821/HST-OPTICAL/odmj02oqq_raw.fits\n",
      "/kaggle/input/space-objects-around-black-holes-esa/NEAR THE BLACK HOLE/H1821/HST-OPTICAL/odmj03btq_raw.fits\n",
      "/kaggle/input/space-objects-around-black-holes-esa/NEAR THE BLACK HOLE/MESSIER60/summary.txt\n",
      "/kaggle/input/space-objects-around-black-holes-esa/NEAR THE BLACK HOLE/MESSIER60/ASTRO_IMAGING_HST_OPTICAL15.csv\n",
      "/kaggle/input/space-objects-around-black-holes-esa/NEAR THE BLACK HOLE/MESSIER60/HST-OPTICAL/ob5c09u5q_raw.fits\n",
      "/kaggle/input/space-objects-around-black-holes-esa/NEAR THE BLACK HOLE/MESSIER60/HST-OPTICAL/ob5c07ueq_raw.fits\n",
      "/kaggle/input/space-objects-around-black-holes-esa/NEAR THE BLACK HOLE/MESSIER60/HST-OPTICAL/o4ak06q4q_raw.fits\n",
      "/kaggle/input/space-objects-around-black-holes-esa/NEAR THE BLACK HOLE/MESSIER60/HST-OPTICAL/hst_08686_09_wfpc2_fr680p15_pc_drz.fits\n",
      "/kaggle/input/space-objects-around-black-holes-esa/NEAR THE BLACK HOLE/MESSIER60/HST-OPTICAL/ob5c08yjq_raw.fits\n",
      "/kaggle/input/space-objects-around-black-holes-esa/NEAR THE BLACK HOLE/MESSIER60/HST-OPTICAL/o4an01ayq_raw.fits\n",
      "/kaggle/input/space-objects-around-black-holes-esa/NEAR THE BLACK HOLE/MESSIER60/HST-OPTICAL/HST/x13c0201t/x13c0201t_c1f.fits\n",
      "/kaggle/input/space-objects-around-black-holes-esa/NEAR THE BLACK HOLE/MESSIER60/HST-OPTICAL/HST/x13c0201t/x13c0201t_c0f.fits\n",
      "/kaggle/input/space-objects-around-black-holes-esa/NEAR THE BLACK HOLE/S50014/summary.txt\n",
      "/kaggle/input/space-objects-around-black-holes-esa/NEAR THE BLACK HOLE/S50014/ASTRO_IMAGING_HST_OPTICAL3.csv\n",
      "/kaggle/input/space-objects-around-black-holes-esa/NEAR THE BLACK HOLE/S50014/HST-OPTICAL/HST/w0cq0101t/w0cq0101t_c2f.fits\n",
      "/kaggle/input/space-objects-around-black-holes-esa/NEAR THE BLACK HOLE/S50014/HST-OPTICAL/HST/w0cq0101t/w0cq0101t_c0f.fits\n",
      "/kaggle/input/space-objects-around-black-holes-esa/NEAR THE BLACK HOLE/S50014/HST-OPTICAL/HST/w0cq0101t/w0cq0101t_c1f.fits\n",
      "/kaggle/input/space-objects-around-black-holes-esa/NEAR THE BLACK HOLE/S50014/HST-OPTICAL/HST/w0cq7201t/w0cq7201t_c0f.fits\n",
      "/kaggle/input/space-objects-around-black-holes-esa/NEAR THE BLACK HOLE/S50014/HST-OPTICAL/HST/w0cq7201t/w0cq7201t_c1f.fits\n",
      "/kaggle/input/space-objects-around-black-holes-esa/NEAR THE BLACK HOLE/S50014/HST-OPTICAL/HST/w0cq7201t/w0cq7201t_c2f.fits\n",
      "/kaggle/input/space-objects-around-black-holes-esa/NEAR THE BLACK HOLE/S50014/HST-OPTICAL/HST/w0cq0201t/w0cq0201t_c2f.fits\n",
      "/kaggle/input/space-objects-around-black-holes-esa/NEAR THE BLACK HOLE/S50014/HST-OPTICAL/HST/w0cq0201t/w0cq0201t_c0f.fits\n",
      "/kaggle/input/space-objects-around-black-holes-esa/NEAR THE BLACK HOLE/S50014/HST-OPTICAL/HST/w0cq0201t/w0cq0201t_c1f.fits\n",
      "/kaggle/input/space-objects-around-black-holes-esa/NEAR THE BLACK HOLE/S50014/HST-OPTICAL/HST/w0et0101t/w0et0101t_c0f.fits\n",
      "/kaggle/input/space-objects-around-black-holes-esa/NEAR THE BLACK HOLE/S50014/HST-OPTICAL/HST/w0et0101t/w0et0101t_c1f.fits\n",
      "/kaggle/input/space-objects-around-black-holes-esa/NEAR THE BLACK HOLE/S50014/HST-OPTICAL/HST/w0et0101t/w0et0101t_c2f.fits\n",
      "/kaggle/input/space-objects-around-black-holes-esa/NEAR THE BLACK HOLE/S50014/HST-OPTICAL/HST/w0cq8101t/w0cq8101t_c1f.fits\n",
      "/kaggle/input/space-objects-around-black-holes-esa/NEAR THE BLACK HOLE/S50014/HST-OPTICAL/HST/w0cq8101t/w0cq8101t_c2f.fits\n",
      "/kaggle/input/space-objects-around-black-holes-esa/NEAR THE BLACK HOLE/S50014/HST-OPTICAL/HST/w0cq8101t/w0cq8101t_c0f.fits\n",
      "/kaggle/input/space-objects-around-black-holes-esa/NEAR THE BLACK HOLE/S50014/HST-OPTICAL/HST/w0et0201t/w0et0201t_c0f.fits\n",
      "/kaggle/input/space-objects-around-black-holes-esa/NEAR THE BLACK HOLE/S50014/HST-OPTICAL/HST/w0et0201t/w0et0201t_c2f.fits\n",
      "/kaggle/input/space-objects-around-black-holes-esa/NEAR THE BLACK HOLE/S50014/HST-OPTICAL/HST/w0et0201t/w0et0201t_c1f.fits\n",
      "/kaggle/input/space-objects-around-black-holes-esa/NEAR THE BLACK HOLE/NGC5548/summary.txt\n",
      "/kaggle/input/space-objects-around-black-holes-esa/NEAR THE BLACK HOLE/NGC5548/ASTRO_IMAGING_HST_OPTICAL12.csv\n",
      "/kaggle/input/space-objects-around-black-holes-esa/NEAR THE BLACK HOLE/NGC5548/HST-OPTICAL/o6kw01r7q_raw.fits\n",
      "/kaggle/input/space-objects-around-black-holes-esa/NEAR THE BLACK HOLE/NGC5548/HST-OPTICAL/o6jd02flq_raw.fits\n",
      "/kaggle/input/space-objects-around-black-holes-esa/NEAR THE BLACK HOLE/NGC5548/HST-OPTICAL/HST/x0l30801t/x0l30801t_c0f.fits\n",
      "/kaggle/input/space-objects-around-black-holes-esa/NEAR THE BLACK HOLE/NGC5548/HST-OPTICAL/HST/x0l30801t/x0l30801t_c1f.fits\n",
      "/kaggle/input/space-objects-around-black-holes-esa/NEAR THE BLACK HOLE/MESSIER106/summary.txt\n",
      "/kaggle/input/space-objects-around-black-holes-esa/NEAR THE BLACK HOLE/MESSIER106/HST-OPTICAL/j8l003030_drz.fits\n",
      "/kaggle/input/space-objects-around-black-holes-esa/NEAR THE BLACK HOLE/MESSIER106/HST-OPTICAL/o4tu01gjq_raw.fits\n",
      "/kaggle/input/space-objects-around-black-holes-esa/NEAR THE BLACK HOLE/MESSIER106/HST-OPTICAL/j8q004041_drz.fits\n",
      "/kaggle/input/space-objects-around-black-holes-esa/NEAR THE BLACK HOLE/MESSIER106/HST-OPTICAL/HST/ua2r1101m/ua2r1101m_c1m.fits\n",
      "/kaggle/input/space-objects-around-black-holes-esa/NEAR THE BLACK HOLE/MESSIER106/HST-OPTICAL/HST/ua2r1101m/ua2r1101m_c1f.fits\n",
      "/kaggle/input/space-objects-around-black-holes-esa/NEAR THE BLACK HOLE/MESSIER106/HST-OPTICAL/HST/ua2r1101m/ua2r1101m_c0m.fits\n",
      "/kaggle/input/space-objects-around-black-holes-esa/NEAR THE BLACK HOLE/MESSIER106/HST-OPTICAL/HST/ua2r1101m/ua2r1101m_c0f.fits\n",
      "/kaggle/input/space-objects-around-black-holes-esa/NEAR THE BLACK HOLE/MESSIER106/HST-OPTICAL/HST/x0if0301t/x0if0301t_c0f.fits\n",
      "/kaggle/input/space-objects-around-black-holes-esa/NEAR THE BLACK HOLE/MESSIER106/HST-OPTICAL/HST/x0if0301t/x0if0301t_c1f.fits\n",
      "/kaggle/input/space-objects-around-black-holes-esa/NEAR THE BLACK HOLE/MESSIER106/HST-OPTICAL/HST/x0xg0101t/x0xg0101t_c1f.fits\n",
      "/kaggle/input/space-objects-around-black-holes-esa/NEAR THE BLACK HOLE/MESSIER106/HST-OPTICAL/HST/x0xg0101t/x0xg0101t_c0f.fits\n",
      "/kaggle/input/space-objects-around-black-holes-esa/NEAR THE BLACK HOLE/MESSIER106/HST-OPTICAL/HST/x2ck0502t/x2ck0502t_c1f.fits\n",
      "/kaggle/input/space-objects-around-black-holes-esa/NEAR THE BLACK HOLE/MESSIER106/HST-OPTICAL/HST/x2ck0502t/x2ck0502t_c0f.fits\n",
      "/kaggle/input/space-objects-around-black-holes-esa/NEAR THE BLACK HOLE/OJ287/ASTRO_IMAGING_HST_OPTICAL6.csv\n",
      "/kaggle/input/space-objects-around-black-holes-esa/NEAR THE BLACK HOLE/OJ287/summary.txt\n",
      "/kaggle/input/space-objects-around-black-holes-esa/NEAR THE BLACK HOLE/OJ287/HST-OPTICAL/hst_06363_4c_wfpc2_f606w_pc_drz.fits\n",
      "/kaggle/input/space-objects-around-black-holes-esa/NEAR THE BLACK HOLE/OJ287/HST-OPTICAL/hst_05992_06_wfpc2_f814w_pc_drz.fits\n",
      "/kaggle/input/space-objects-around-black-holes-esa/NEAR THE BLACK HOLE/OJ287/HST-OPTICAL/hst_05992_01_wfpc2_f814w_pc_drz.fits\n",
      "/kaggle/input/space-objects-around-black-holes-esa/NEAR THE BLACK HOLE/OJ287/HST-OPTICAL/hst_11344_01_wfpc2_f606w_pc_drz.fits\n",
      "/kaggle/input/space-objects-around-black-holes-esa/NEAR THE BLACK HOLE/OJ287/HST-OPTICAL/HST/u33j4c01r/u33j4c01r_c1m.fits\n",
      "/kaggle/input/space-objects-around-black-holes-esa/NEAR THE BLACK HOLE/OJ287/HST-OPTICAL/HST/u33j4c01r/u33j4c01r_c0f.fits\n",
      "/kaggle/input/space-objects-around-black-holes-esa/NEAR THE BLACK HOLE/OJ287/HST-OPTICAL/HST/u33j4c01r/u33j4c01r_c0m.fits\n",
      "/kaggle/input/space-objects-around-black-holes-esa/NEAR THE BLACK HOLE/OJ287/HST-OPTICAL/HST/u33j4c01r/u33j4c01r_c1f.fits\n",
      "/kaggle/input/space-objects-around-black-holes-esa/NEAR THE BLACK HOLE/OJ287/HST-OPTICAL/HST/u2vh0601r/u2vh0601r_c1m.fits\n",
      "/kaggle/input/space-objects-around-black-holes-esa/NEAR THE BLACK HOLE/OJ287/HST-OPTICAL/HST/u2vh0601r/u2vh0601r_c0m.fits\n",
      "/kaggle/input/space-objects-around-black-holes-esa/NEAR THE BLACK HOLE/OJ287/HST-OPTICAL/HST/u2vh0601r/u2vh0601r_c1f.fits\n",
      "/kaggle/input/space-objects-around-black-holes-esa/NEAR THE BLACK HOLE/OJ287/HST-OPTICAL/HST/u2vh0601r/u2vh0601r_c0f.fits\n",
      "/kaggle/input/space-objects-around-black-holes-esa/NEAR THE BLACK HOLE/OJ287/HST-OPTICAL/HST/u2vh0101t/u2vh0101t_c0m.fits\n",
      "/kaggle/input/space-objects-around-black-holes-esa/NEAR THE BLACK HOLE/OJ287/HST-OPTICAL/HST/u2vh0101t/u2vh0101t_c0f.fits\n",
      "/kaggle/input/space-objects-around-black-holes-esa/NEAR THE BLACK HOLE/OJ287/HST-OPTICAL/HST/u2vh0101t/u2vh0101t_c1m.fits\n",
      "/kaggle/input/space-objects-around-black-holes-esa/NEAR THE BLACK HOLE/OJ287/HST-OPTICAL/HST/u2vh0101t/u2vh0101t_c1f.fits\n",
      "/kaggle/input/space-objects-around-black-holes-esa/NEAR THE BLACK HOLE/OJ287/HST-OPTICAL/HST/ua5e0101m/ua5e0101m_c1m.fits\n",
      "/kaggle/input/space-objects-around-black-holes-esa/NEAR THE BLACK HOLE/OJ287/HST-OPTICAL/HST/ua5e0101m/ua5e0101m_c0m.fits\n",
      "/kaggle/input/space-objects-around-black-holes-esa/NEAR THE BLACK HOLE/OJ287/HST-OPTICAL/HST/ua5e0101m/ua5e0101m_c0f.fits\n",
      "/kaggle/input/space-objects-around-black-holes-esa/NEAR THE BLACK HOLE/OJ287/HST-OPTICAL/HST/ua5e0101m/ua5e0101m_c1f.fits\n",
      "/kaggle/input/space-objects-around-black-holes-esa/NEAR THE BLACK HOLE/OJ287/HST-OPTICAL/HST/ua5e0107m/ua5e0107m_c0f.fits\n",
      "/kaggle/input/space-objects-around-black-holes-esa/NEAR THE BLACK HOLE/OJ287/HST-OPTICAL/HST/ua5e0107m/ua5e0107m_c1m.fits\n",
      "/kaggle/input/space-objects-around-black-holes-esa/NEAR THE BLACK HOLE/OJ287/HST-OPTICAL/HST/ua5e0107m/ua5e0107m_c1f.fits\n",
      "/kaggle/input/space-objects-around-black-holes-esa/NEAR THE BLACK HOLE/OJ287/HST-OPTICAL/HST/ua5e0107m/ua5e0107m_c0m.fits\n",
      "/kaggle/input/space-objects-around-black-holes-esa/NEAR THE BLACK HOLE/OJ287/HST-OPTICAL/HST/u2vh0201t/u2vh0201t_c1f.fits\n",
      "/kaggle/input/space-objects-around-black-holes-esa/NEAR THE BLACK HOLE/OJ287/HST-OPTICAL/HST/u2vh0201t/u2vh0201t_c0m.fits\n",
      "/kaggle/input/space-objects-around-black-holes-esa/NEAR THE BLACK HOLE/OJ287/HST-OPTICAL/HST/u2vh0201t/u2vh0201t_c1m.fits\n",
      "/kaggle/input/space-objects-around-black-holes-esa/NEAR THE BLACK HOLE/OJ287/HST-OPTICAL/HST/u2vh0201t/u2vh0201t_c0f.fits\n",
      "/kaggle/input/space-objects-around-black-holes-esa/NEAR THE BLACK HOLE/MESSIER87/ASTRO_IMAGING_HST_OPTICAL16.csv\n",
      "/kaggle/input/space-objects-around-black-holes-esa/NEAR THE BLACK HOLE/MESSIER87/summary.txt\n",
      "/kaggle/input/space-objects-around-black-holes-esa/NEAR THE BLACK HOLE/MESSIER87/HST-OPTICAL/ob5c09u5q_raw.fits\n",
      "/kaggle/input/space-objects-around-black-holes-esa/NEAR THE BLACK HOLE/MESSIER87/HST-OPTICAL/ob5c07ueq_raw.fits\n",
      "/kaggle/input/space-objects-around-black-holes-esa/NEAR THE BLACK HOLE/MESSIER87/HST-OPTICAL/o4ak06q4q_raw.fits\n",
      "/kaggle/input/space-objects-around-black-holes-esa/NEAR THE BLACK HOLE/MESSIER87/HST-OPTICAL/hst_08686_09_wfpc2_fr680p15_pc_drz.fits\n",
      "/kaggle/input/space-objects-around-black-holes-esa/NEAR THE BLACK HOLE/MESSIER87/HST-OPTICAL/ob5c08yjq_raw.fits\n",
      "/kaggle/input/space-objects-around-black-holes-esa/NEAR THE BLACK HOLE/MESSIER87/HST-OPTICAL/o4an01ayq_raw.fits\n",
      "/kaggle/input/space-objects-around-black-holes-esa/NEAR THE BLACK HOLE/MESSIER87/HST-OPTICAL/HST/x13c0201t/x13c0201t_c1f.fits\n",
      "/kaggle/input/space-objects-around-black-holes-esa/NEAR THE BLACK HOLE/MESSIER87/HST-OPTICAL/HST/x13c0201t/x13c0201t_c0f.fits\n",
      "/kaggle/input/space-objects-around-black-holes-esa/NEAR THE BLACK HOLE/IC1101/summary.txt\n",
      "/kaggle/input/space-objects-around-black-holes-esa/NEAR THE BLACK HOLE/IC1101/ASTRO_IMAGING_HST_UV9.csv\n",
      "/kaggle/input/space-objects-around-black-holes-esa/NEAR THE BLACK HOLE/IC1101/HST-UV/hst_11980_06_acs_sbc_f150lp_drz.fits\n",
      "/kaggle/input/space-objects-around-black-holes-esa/NEAR THE BLACK HOLE/IC1101/HST-UV/jba706020_drz.fits\n",
      "/kaggle/input/space-objects-around-black-holes-esa/NEAR THE BLACK HOLE/IC1101/HST-UV/jba706010_drz.fits\n",
      "/kaggle/input/space-objects-around-black-holes-esa/NEAR THE BLACK HOLE/IC1101/HST-UV/hst_11980_06_acs_sbc_f140lp_drz.fits\n",
      "/kaggle/input/space-objects-around-black-holes-esa/NEAR THE BLACK HOLE/3C273/summary.txt\n",
      "/kaggle/input/space-objects-around-black-holes-esa/NEAR THE BLACK HOLE/3C273/ASTRO_IMAGING_HST_OPTICAL11.csv\n",
      "/kaggle/input/space-objects-around-black-holes-esa/NEAR THE BLACK HOLE/3C273/HST-OPTICAL/iby840010_drz.fits\n",
      "/kaggle/input/space-objects-around-black-holes-esa/NEAR THE BLACK HOLE/3C273/HST-OPTICAL/j8cw08n4q_drz.fits\n",
      "/kaggle/input/space-objects-around-black-holes-esa/NEAR THE BLACK HOLE/3C273/HST-OPTICAL/hst_05980_01_wfpc2_total_pc_drz.fits\n",
      "/kaggle/input/space-objects-around-black-holes-esa/NEAR THE BLACK HOLE/3C273/HST-OPTICAL/HST/u6ei0401m/u6ei0401m_c1f.fits\n",
      "/kaggle/input/space-objects-around-black-holes-esa/NEAR THE BLACK HOLE/3C273/HST-OPTICAL/HST/u6ei0401m/u6ei0401m_c0m.fits\n",
      "/kaggle/input/space-objects-around-black-holes-esa/NEAR THE BLACK HOLE/3C273/HST-OPTICAL/HST/u6ei0401m/u6ei0401m_c1m.fits\n",
      "/kaggle/input/space-objects-around-black-holes-esa/NEAR THE BLACK HOLE/3C273/HST-OPTICAL/HST/u6ei0401m/u6ei0401m_c0f.fits\n",
      "/kaggle/input/space-objects-around-black-holes-esa/NEAR THE BLACK HOLE/NGC4151/summary.txt\n",
      "/kaggle/input/space-objects-around-black-holes-esa/NEAR THE BLACK HOLE/NGC4151/ASTRO_IMAGING_HST_OPTICAL14.csv\n",
      "/kaggle/input/space-objects-around-black-holes-esa/NEAR THE BLACK HOLE/NGC4151/HST-OPTICAL/o5kt01wjq_raw.fits\n",
      "/kaggle/input/space-objects-around-black-holes-esa/NEAR THE BLACK HOLE/NGC4151/HST-OPTICAL/o59701i1q_raw.fits\n",
      "/kaggle/input/space-objects-around-black-holes-esa/NEAR THE BLACK HOLE/NGC4151/HST-OPTICAL/o42302nqq_raw.fits\n",
      "/kaggle/input/space-objects-around-black-holes-esa/NEAR THE BLACK HOLE/NGC4151/HST-OPTICAL/o42304c2q_raw.fits\n",
      "/kaggle/input/space-objects-around-black-holes-esa/NEAR THE BLACK HOLE/NGC4151/HST-OPTICAL/o4qa04euq_raw.fits\n",
      "/kaggle/input/space-objects-around-black-holes-esa/NEAR THE BLACK HOLE/NGC4151/HST-OPTICAL/n4hk18010_mos.fits\n",
      "/kaggle/input/space-objects-around-black-holes-esa/NEAR THE BLACK HOLE/NGC4151/HST-OPTICAL/o61l01qxq_raw.fits\n",
      "/kaggle/input/space-objects-around-black-holes-esa/NEAR THE BLACK HOLE/NGC4151/HST-OPTICAL/HST/x2740101t/x2740101t_c1f.fits\n",
      "/kaggle/input/space-objects-around-black-holes-esa/NEAR THE BLACK HOLE/NGC4151/HST-OPTICAL/HST/x2740101t/x2740101t_c0f.fits\n",
      "/kaggle/input/space-objects-around-black-holes-esa/NEAR THE BLACK HOLE/NGC4151/HST-OPTICAL/HST/x0la0601t/x0la0601t_c0f.fits\n",
      "/kaggle/input/space-objects-around-black-holes-esa/NEAR THE BLACK HOLE/NGC4151/HST-OPTICAL/HST/x0la0601t/x0la0601t_c1f.fits\n",
      "/kaggle/input/space-objects-around-black-holes-esa/NEAR THE BLACK HOLE/NGC1600/ASTRO_IMAGING_HST_OPTICAL7.csv\n",
      "/kaggle/input/space-objects-around-black-holes-esa/NEAR THE BLACK HOLE/NGC1600/summary.txt\n",
      "/kaggle/input/space-objects-around-black-holes-esa/NEAR THE BLACK HOLE/NGC1600/HST-OPTICAL/HST/idfr08020/idfr08020_drz.fits\n",
      "/kaggle/input/space-objects-around-black-holes-esa/NEAR THE BLACK HOLE/NGC1600/HST-OPTICAL/HST/idfr08020/idfr08020_drc.fits\n",
      "/kaggle/input/space-objects-around-black-holes-esa/NEAR THE BLACK HOLE/NGC1600/HST-OPTICAL/HST/w1000302t/w1000302t_c0f.fits\n",
      "/kaggle/input/space-objects-around-black-holes-esa/NEAR THE BLACK HOLE/NGC1600/HST-OPTICAL/HST/w1000302t/w1000302t_c1f.fits\n",
      "/kaggle/input/space-objects-around-black-holes-esa/NEAR THE BLACK HOLE/NGC1600/HST-OPTICAL/HST/w1000302t/w1000302t_c2f.fits\n",
      "/kaggle/input/space-objects-around-black-holes-esa/NEAR THE BLACK HOLE/NGC1600/HST-OPTICAL/HST/idfr08cpq/idfr08cpq_drz.fits\n",
      "/kaggle/input/space-objects-around-black-holes-esa/NEAR THE BLACK HOLE/NGC1600/HST-OPTICAL/HST/idfr08cpq/idfr08cpq_drc.fits\n",
      "/kaggle/input/space-objects-around-black-holes-esa/NEAR THE BLACK HOLE/NGC1600/HST-OPTICAL/HST/w1000301t/w1000301t_c0f.fits\n",
      "/kaggle/input/space-objects-around-black-holes-esa/NEAR THE BLACK HOLE/NGC1600/HST-OPTICAL/HST/w1000301t/w1000301t_c1f.fits\n",
      "/kaggle/input/space-objects-around-black-holes-esa/NEAR THE BLACK HOLE/NGC1600/HST-OPTICAL/HST/w1000301t/w1000301t_c2f.fits\n",
      "/kaggle/input/space-objects-around-black-holes-esa/NEAR THE BLACK HOLE/MARKARIAN/summary.txt\n",
      "/kaggle/input/space-objects-around-black-holes-esa/NEAR THE BLACK HOLE/MARKARIAN/ASTRO_IMAGING_HST_OPTICAL10.csv\n",
      "/kaggle/input/space-objects-around-black-holes-esa/NEAR THE BLACK HOLE/MARKARIAN/HST-OPTICAL/hst_06363_86_wfpc2_total_wf_drz.fits\n",
      "/kaggle/input/space-objects-around-black-holes-esa/NEAR THE BLACK HOLE/MARKARIAN/HST-OPTICAL/hst_06363_86_wfpc2_total_pc_drz.fits\n",
      "/kaggle/input/space-objects-around-black-holes-esa/NEAR THE BLACK HOLE/MARKARIAN/HST-OPTICAL/hst_06363_86_wfpc2_f702w_pc_drz.fits\n",
      "/kaggle/input/space-objects-around-black-holes-esa/NEAR THE BLACK HOLE/MARKARIAN/HST-OPTICAL/hst_06363_86_wfpc2_f702w_wf_drz.fits\n",
      "/kaggle/input/space-objects-around-black-holes-esa/NEAR THE BLACK HOLE/MARKARIAN/HST-OPTICAL/HST/u33j8602r/u33j8602r_c1f.fits\n",
      "/kaggle/input/space-objects-around-black-holes-esa/NEAR THE BLACK HOLE/MARKARIAN/HST-OPTICAL/HST/u33j8602r/u33j8602r_c0f.fits\n",
      "/kaggle/input/space-objects-around-black-holes-esa/NEAR THE BLACK HOLE/MARKARIAN/HST-OPTICAL/HST/u33j8602r/u33j8602r_c0m.fits\n",
      "/kaggle/input/space-objects-around-black-holes-esa/NEAR THE BLACK HOLE/MARKARIAN/HST-OPTICAL/HST/u33j8602r/u33j8602r_c1m.fits\n",
      "/kaggle/input/space-objects-around-black-holes-esa/NEAR THE BLACK HOLE/MARKARIAN/HST-OPTICAL/HST/u33j8601r/u33j8601r_c0m.fits\n",
      "/kaggle/input/space-objects-around-black-holes-esa/NEAR THE BLACK HOLE/MARKARIAN/HST-OPTICAL/HST/u33j8601r/u33j8601r_c0f.fits\n",
      "/kaggle/input/space-objects-around-black-holes-esa/NEAR THE BLACK HOLE/MARKARIAN/HST-OPTICAL/HST/u33j8601r/u33j8601r_c1f.fits\n",
      "/kaggle/input/space-objects-around-black-holes-esa/NEAR THE BLACK HOLE/MARKARIAN/HST-OPTICAL/HST/u33j8601r/u33j8601r_c1m.fits\n",
      "/kaggle/input/space-objects-around-black-holes-esa/NEAR THE BLACK HOLE/MARKARIAN/HST-OPTICAL/HST/u33j8604r/u33j8604r_c1f.fits\n",
      "/kaggle/input/space-objects-around-black-holes-esa/NEAR THE BLACK HOLE/MARKARIAN/HST-OPTICAL/HST/u33j8604r/u33j8604r_c0f.fits\n",
      "/kaggle/input/space-objects-around-black-holes-esa/NEAR THE BLACK HOLE/MARKARIAN/HST-OPTICAL/HST/u33j8604r/u33j8604r_c1m.fits\n",
      "/kaggle/input/space-objects-around-black-holes-esa/NEAR THE BLACK HOLE/MARKARIAN/HST-OPTICAL/HST/u33j8604r/u33j8604r_c0m.fits\n",
      "/kaggle/input/space-objects-around-black-holes-esa/NEAR THE BLACK HOLE/MARKARIAN/HST-OPTICAL/HST/u33j8603r/u33j8603r_c1m.fits\n",
      "/kaggle/input/space-objects-around-black-holes-esa/NEAR THE BLACK HOLE/MARKARIAN/HST-OPTICAL/HST/u33j8603r/u33j8603r_c0f.fits\n",
      "/kaggle/input/space-objects-around-black-holes-esa/NEAR THE BLACK HOLE/MARKARIAN/HST-OPTICAL/HST/u33j8603r/u33j8603r_c1f.fits\n",
      "/kaggle/input/space-objects-around-black-holes-esa/NEAR THE BLACK HOLE/MARKARIAN/HST-OPTICAL/HST/u33j8603r/u33j8603r_c0m.fits\n",
      "/kaggle/input/space-objects-around-black-holes-esa/NEAR THE BLACK HOLE/MARKARIAN/HST-OPTICAL/HST/u33j8605r/u33j8605r_c0f.fits\n",
      "/kaggle/input/space-objects-around-black-holes-esa/NEAR THE BLACK HOLE/MARKARIAN/HST-OPTICAL/HST/u33j8605r/u33j8605r_c1f.fits\n",
      "/kaggle/input/space-objects-around-black-holes-esa/NEAR THE BLACK HOLE/MARKARIAN/HST-OPTICAL/HST/u33j8605r/u33j8605r_c1m.fits\n",
      "/kaggle/input/space-objects-around-black-holes-esa/NEAR THE BLACK HOLE/MARKARIAN/HST-OPTICAL/HST/u33j8605r/u33j8605r_c0m.fits\n"
     ]
    }
   ],
   "source": [
    "# This Python 3 environment comes with many helpful analytics libraries installed\n",
    "# It is defined by the kaggle/python Docker image: https://github.com/kaggle/docker-python\n",
    "# For example, here's several helpful packages to load\n",
    "\n",
    "import numpy as np # linear algebra\n",
    "import pandas as pd # data processing, CSV file I/O (e.g. pd.read_csv)\n",
    "\n",
    "# Input data files are available in the read-only \"../input/\" directory\n",
    "# For example, running this (by clicking run or pressing Shift+Enter) will list all files under the input directory\n",
    "\n",
    "import os\n",
    "for dirname, _, filenames in os.walk('/kaggle/input'):\n",
    "    for filename in filenames:\n",
    "        print(os.path.join(dirname, filename))\n",
    "\n",
    "# You can write up to 20GB to the current directory (/kaggle/working/) that gets preserved as output when you create a version using \"Save & Run All\" \n",
    "# You can also write temporary files to /kaggle/temp/, but they won't be saved outside of the current session"
   ]
  },
  {
   "cell_type": "markdown",
   "metadata": {},
   "source": [
    "# Using only 5 files for analysis and prediction"
   ]
  },
  {
   "cell_type": "code",
   "execution_count": 3,
   "metadata": {
    "execution": {
     "iopub.execute_input": "2024-05-05T13:11:56.241228Z",
     "iopub.status.busy": "2024-05-05T13:11:56.240824Z",
     "iopub.status.idle": "2024-05-05T13:11:56.270516Z",
     "shell.execute_reply": "2024-05-05T13:11:56.269829Z",
     "shell.execute_reply.started": "2024-05-05T13:11:56.241184Z"
    }
   },
   "outputs": [],
   "source": [
    "import pandas as pd\n",
    "import numpy as np\n",
    "\n",
    "df = pd.read_csv(r'/kaggle/input/space-objects-around-black-holes-esa/NEAR THE BLACK HOLE/SAGITTARIUS-A/ASTRO_IMAGING_HST_OPTICAL17.csv')\n",
    "df_2 = pd.read_csv(r'/kaggle/input/space-objects-around-black-holes-esa/NEAR THE BLACK HOLE/SOMBRERO/ASTRO_IMAGING_HST_OPTICAL8.csv')\n",
    "df_3 = pd.read_csv(r'/kaggle/input/space-objects-around-black-holes-esa/NEAR THE BLACK HOLE/CENTAURUS-A/ASTRO_IMAGING_HST_OPTICAL13.csv')\n",
    "df_4 = pd.read_csv (r'/kaggle/input/space-objects-around-black-holes-esa/NEAR THE BLACK HOLE/H1821/ASTRO_IMAGING_HST_OPTICAL5.csv')\n",
    "df_5 = pd.read_csv(r'/kaggle/input/space-objects-around-black-holes-esa/NEAR THE BLACK HOLE/NGC5548/ASTRO_IMAGING_HST_OPTICAL12.csv')\n",
    "df_6 = pd.read_csv(r'/kaggle/input/space-objects-around-black-holes-esa/NEAR THE BLACK HOLE/H1821/ASTRO_IMAGING_HST_OPTICAL5.csv')"
   ]
  },
  {
   "cell_type": "code",
   "execution_count": 4,
   "metadata": {
    "execution": {
     "iopub.execute_input": "2024-05-05T13:12:00.496585Z",
     "iopub.status.busy": "2024-05-05T13:12:00.496177Z",
     "iopub.status.idle": "2024-05-05T13:12:00.528852Z",
     "shell.execute_reply": "2024-05-05T13:12:00.527955Z",
     "shell.execute_reply.started": "2024-05-05T13:12:00.496540Z"
    }
   },
   "outputs": [
    {
     "data": {
      "text/html": [
       "<div>\n",
       "<style scoped>\n",
       "    .dataframe tbody tr th:only-of-type {\n",
       "        vertical-align: middle;\n",
       "    }\n",
       "\n",
       "    .dataframe tbody tr th {\n",
       "        vertical-align: top;\n",
       "    }\n",
       "\n",
       "    .dataframe thead th {\n",
       "        text-align: right;\n",
       "    }\n",
       "</style>\n",
       "<table border=\"1\" class=\"dataframe\">\n",
       "  <thead>\n",
       "    <tr style=\"text-align: right;\">\n",
       "      <th></th>\n",
       "      <th>postcard_url</th>\n",
       "      <th>product_url</th>\n",
       "      <th>observation_id</th>\n",
       "      <th>ra_deg</th>\n",
       "      <th>dec_deg</th>\n",
       "      <th>target_name</th>\n",
       "      <th>instrument_name</th>\n",
       "      <th>collection</th>\n",
       "      <th>filter</th>\n",
       "      <th>start_time</th>\n",
       "      <th>exposure_duration</th>\n",
       "      <th>stc_s</th>\n",
       "      <th>end_time</th>\n",
       "      <th>observation_oid</th>\n",
       "    </tr>\n",
       "  </thead>\n",
       "  <tbody>\n",
       "    <tr>\n",
       "      <th>0</th>\n",
       "      <td>http://archives.esac.esa.int/ehst-sl-server/se...</td>\n",
       "      <td>http://archives.esac.esa.int/ehst-sl-server/se...</td>\n",
       "      <td>hst_07909_rb_wfpc2_f606w_pc</td>\n",
       "      <td>266.275245</td>\n",
       "      <td>-28.941184</td>\n",
       "      <td>ANY</td>\n",
       "      <td>WFPC2</td>\n",
       "      <td>HLA</td>\n",
       "      <td>F606W</td>\n",
       "      <td>1998-08-13 11:59:14.11</td>\n",
       "      <td>2200.0</td>\n",
       "      <td>POLYGON J2000 266.275620000000004 -28.94818200...</td>\n",
       "      <td>1998-08-13 12:38:14.11</td>\n",
       "      <td>hst_07909_rb_wfpc2_f606w_pc</td>\n",
       "    </tr>\n",
       "    <tr>\n",
       "      <th>1</th>\n",
       "      <td>http://archives.esac.esa.int/ehst-sl-server/se...</td>\n",
       "      <td>http://archives.esac.esa.int/ehst-sl-server/se...</td>\n",
       "      <td>hst_09676_x8_wfpc2_f606w_pc</td>\n",
       "      <td>266.275913</td>\n",
       "      <td>-28.944096</td>\n",
       "      <td>ANY</td>\n",
       "      <td>WFPC2</td>\n",
       "      <td>HLA</td>\n",
       "      <td>F606W</td>\n",
       "      <td>2003-03-13 20:26:17.25</td>\n",
       "      <td>1100.0</td>\n",
       "      <td>POLYGON J2000 266.27582799999999 -28.951051000...</td>\n",
       "      <td>2003-03-13 20:47:17.24</td>\n",
       "      <td>hst_09676_x8_wfpc2_f606w_pc</td>\n",
       "    </tr>\n",
       "    <tr>\n",
       "      <th>2</th>\n",
       "      <td>http://archives.esac.esa.int/ehst-sl-server/se...</td>\n",
       "      <td>http://archives.esac.esa.int/ehst-sl-server/se...</td>\n",
       "      <td>hst_09598_3a_wfpc2_f656n_pc</td>\n",
       "      <td>266.276156</td>\n",
       "      <td>-28.943571</td>\n",
       "      <td>EARTH-CALIB</td>\n",
       "      <td>WFPC2</td>\n",
       "      <td>HLA</td>\n",
       "      <td>F656N</td>\n",
       "      <td>2003-03-13 21:16:17.11</td>\n",
       "      <td>0.7</td>\n",
       "      <td>POLYGON J2000 266.267831000000001 -28.95085500...</td>\n",
       "      <td>2003-03-13 21:18:17.47</td>\n",
       "      <td>hst_09598_3a_wfpc2_f656n_pc</td>\n",
       "    </tr>\n",
       "    <tr>\n",
       "      <th>3</th>\n",
       "      <td>http://archives.esac.esa.int/ehst-sl-server/se...</td>\n",
       "      <td>http://archives.esac.esa.int/ehst-sl-server/se...</td>\n",
       "      <td>hst_09244_9m_wfpc2_f606w_pc</td>\n",
       "      <td>266.279368</td>\n",
       "      <td>-28.944208</td>\n",
       "      <td>ANY</td>\n",
       "      <td>WFPC2</td>\n",
       "      <td>HLA</td>\n",
       "      <td>F606W</td>\n",
       "      <td>2001-03-22 16:03:14.86</td>\n",
       "      <td>2500.0</td>\n",
       "      <td>POLYGON J2000 266.279143999999917 -28.95116100...</td>\n",
       "      <td>2001-03-22 16:47:14.86</td>\n",
       "      <td>hst_09244_9m_wfpc2_f606w_pc</td>\n",
       "    </tr>\n",
       "    <tr>\n",
       "      <th>4</th>\n",
       "      <td>http://archives.esac.esa.int/ehst-sl-server/se...</td>\n",
       "      <td>http://archives.esac.esa.int/ehst-sl-server/se...</td>\n",
       "      <td>hst_07909_rb_wfpc2_f606w_wf</td>\n",
       "      <td>266.265018</td>\n",
       "      <td>-28.941840</td>\n",
       "      <td>ANY</td>\n",
       "      <td>WFPC2</td>\n",
       "      <td>HLA</td>\n",
       "      <td>F606W</td>\n",
       "      <td>1998-08-13 11:59:14.11</td>\n",
       "      <td>2200.0</td>\n",
       "      <td>POLYGON J2000 266.269665999999972 -28.97094800...</td>\n",
       "      <td>1998-08-13 12:38:14.11</td>\n",
       "      <td>hst_07909_rb_wfpc2_f606w_wf</td>\n",
       "    </tr>\n",
       "  </tbody>\n",
       "</table>\n",
       "</div>"
      ],
      "text/plain": [
       "                                        postcard_url  \\\n",
       "0  http://archives.esac.esa.int/ehst-sl-server/se...   \n",
       "1  http://archives.esac.esa.int/ehst-sl-server/se...   \n",
       "2  http://archives.esac.esa.int/ehst-sl-server/se...   \n",
       "3  http://archives.esac.esa.int/ehst-sl-server/se...   \n",
       "4  http://archives.esac.esa.int/ehst-sl-server/se...   \n",
       "\n",
       "                                         product_url  \\\n",
       "0  http://archives.esac.esa.int/ehst-sl-server/se...   \n",
       "1  http://archives.esac.esa.int/ehst-sl-server/se...   \n",
       "2  http://archives.esac.esa.int/ehst-sl-server/se...   \n",
       "3  http://archives.esac.esa.int/ehst-sl-server/se...   \n",
       "4  http://archives.esac.esa.int/ehst-sl-server/se...   \n",
       "\n",
       "                observation_id      ra_deg    dec_deg  target_name  \\\n",
       "0  hst_07909_rb_wfpc2_f606w_pc  266.275245 -28.941184          ANY   \n",
       "1  hst_09676_x8_wfpc2_f606w_pc  266.275913 -28.944096          ANY   \n",
       "2  hst_09598_3a_wfpc2_f656n_pc  266.276156 -28.943571  EARTH-CALIB   \n",
       "3  hst_09244_9m_wfpc2_f606w_pc  266.279368 -28.944208          ANY   \n",
       "4  hst_07909_rb_wfpc2_f606w_wf  266.265018 -28.941840          ANY   \n",
       "\n",
       "  instrument_name collection filter              start_time  \\\n",
       "0           WFPC2        HLA  F606W  1998-08-13 11:59:14.11   \n",
       "1           WFPC2        HLA  F606W  2003-03-13 20:26:17.25   \n",
       "2           WFPC2        HLA  F656N  2003-03-13 21:16:17.11   \n",
       "3           WFPC2        HLA  F606W  2001-03-22 16:03:14.86   \n",
       "4           WFPC2        HLA  F606W  1998-08-13 11:59:14.11   \n",
       "\n",
       "   exposure_duration                                              stc_s  \\\n",
       "0             2200.0  POLYGON J2000 266.275620000000004 -28.94818200...   \n",
       "1             1100.0  POLYGON J2000 266.27582799999999 -28.951051000...   \n",
       "2                0.7  POLYGON J2000 266.267831000000001 -28.95085500...   \n",
       "3             2500.0  POLYGON J2000 266.279143999999917 -28.95116100...   \n",
       "4             2200.0  POLYGON J2000 266.269665999999972 -28.97094800...   \n",
       "\n",
       "                 end_time              observation_oid  \n",
       "0  1998-08-13 12:38:14.11  hst_07909_rb_wfpc2_f606w_pc  \n",
       "1  2003-03-13 20:47:17.24  hst_09676_x8_wfpc2_f606w_pc  \n",
       "2  2003-03-13 21:18:17.47  hst_09598_3a_wfpc2_f656n_pc  \n",
       "3  2001-03-22 16:47:14.86  hst_09244_9m_wfpc2_f606w_pc  \n",
       "4  1998-08-13 12:38:14.11  hst_07909_rb_wfpc2_f606w_wf  "
      ]
     },
     "execution_count": 4,
     "metadata": {},
     "output_type": "execute_result"
    }
   ],
   "source": [
    "df.head()"
   ]
  },
  {
   "cell_type": "code",
   "execution_count": 5,
   "metadata": {
    "execution": {
     "iopub.execute_input": "2024-05-05T13:12:05.648814Z",
     "iopub.status.busy": "2024-05-05T13:12:05.647944Z",
     "iopub.status.idle": "2024-05-05T13:12:05.664663Z",
     "shell.execute_reply": "2024-05-05T13:12:05.663479Z",
     "shell.execute_reply.started": "2024-05-05T13:12:05.648749Z"
    }
   },
   "outputs": [
    {
     "data": {
      "text/plain": [
       "postcard_url          object\n",
       "product_url           object\n",
       "observation_id        object\n",
       "ra_deg               float64\n",
       "dec_deg              float64\n",
       "target_name           object\n",
       "instrument_name       object\n",
       "collection            object\n",
       "filter                object\n",
       "start_time            object\n",
       "exposure_duration    float64\n",
       "stc_s                 object\n",
       "end_time              object\n",
       "observation_oid       object\n",
       "dtype: object"
      ]
     },
     "execution_count": 5,
     "metadata": {},
     "output_type": "execute_result"
    }
   ],
   "source": [
    "df.dtypes"
   ]
  },
  {
   "cell_type": "markdown",
   "metadata": {},
   "source": [
    "# Merging 5 files together in one dataframe"
   ]
  },
  {
   "cell_type": "code",
   "execution_count": 6,
   "metadata": {
    "execution": {
     "iopub.execute_input": "2024-05-05T13:12:09.384017Z",
     "iopub.status.busy": "2024-05-05T13:12:09.382616Z",
     "iopub.status.idle": "2024-05-05T13:12:09.400902Z",
     "shell.execute_reply": "2024-05-05T13:12:09.400119Z",
     "shell.execute_reply.started": "2024-05-05T13:12:09.383962Z"
    }
   },
   "outputs": [],
   "source": [
    "frames = [df, df_2, df_3, df_4, df_5, df_5, df_6]\n",
    "result = pd.concat(frames)"
   ]
  },
  {
   "cell_type": "code",
   "execution_count": 7,
   "metadata": {
    "execution": {
     "iopub.execute_input": "2024-05-05T13:12:12.365670Z",
     "iopub.status.busy": "2024-05-05T13:12:12.364999Z",
     "iopub.status.idle": "2024-05-05T13:12:12.387429Z",
     "shell.execute_reply": "2024-05-05T13:12:12.386684Z",
     "shell.execute_reply.started": "2024-05-05T13:12:12.365607Z"
    }
   },
   "outputs": [
    {
     "data": {
      "text/html": [
       "<div>\n",
       "<style scoped>\n",
       "    .dataframe tbody tr th:only-of-type {\n",
       "        vertical-align: middle;\n",
       "    }\n",
       "\n",
       "    .dataframe tbody tr th {\n",
       "        vertical-align: top;\n",
       "    }\n",
       "\n",
       "    .dataframe thead th {\n",
       "        text-align: right;\n",
       "    }\n",
       "</style>\n",
       "<table border=\"1\" class=\"dataframe\">\n",
       "  <thead>\n",
       "    <tr style=\"text-align: right;\">\n",
       "      <th></th>\n",
       "      <th>postcard_url</th>\n",
       "      <th>product_url</th>\n",
       "      <th>observation_id</th>\n",
       "      <th>ra_deg</th>\n",
       "      <th>dec_deg</th>\n",
       "      <th>target_name</th>\n",
       "      <th>instrument_name</th>\n",
       "      <th>collection</th>\n",
       "      <th>filter</th>\n",
       "      <th>start_time</th>\n",
       "      <th>exposure_duration</th>\n",
       "      <th>stc_s</th>\n",
       "      <th>end_time</th>\n",
       "      <th>observation_oid</th>\n",
       "    </tr>\n",
       "  </thead>\n",
       "  <tbody>\n",
       "    <tr>\n",
       "      <th>0</th>\n",
       "      <td>http://archives.esac.esa.int/ehst-sl-server/se...</td>\n",
       "      <td>http://archives.esac.esa.int/ehst-sl-server/se...</td>\n",
       "      <td>hst_07909_rb_wfpc2_f606w_pc</td>\n",
       "      <td>266.275245</td>\n",
       "      <td>-28.941184</td>\n",
       "      <td>ANY</td>\n",
       "      <td>WFPC2</td>\n",
       "      <td>HLA</td>\n",
       "      <td>F606W</td>\n",
       "      <td>1998-08-13 11:59:14.11</td>\n",
       "      <td>2200.0</td>\n",
       "      <td>POLYGON J2000 266.275620000000004 -28.94818200...</td>\n",
       "      <td>1998-08-13 12:38:14.11</td>\n",
       "      <td>hst_07909_rb_wfpc2_f606w_pc</td>\n",
       "    </tr>\n",
       "    <tr>\n",
       "      <th>1</th>\n",
       "      <td>http://archives.esac.esa.int/ehst-sl-server/se...</td>\n",
       "      <td>http://archives.esac.esa.int/ehst-sl-server/se...</td>\n",
       "      <td>hst_09676_x8_wfpc2_f606w_pc</td>\n",
       "      <td>266.275913</td>\n",
       "      <td>-28.944096</td>\n",
       "      <td>ANY</td>\n",
       "      <td>WFPC2</td>\n",
       "      <td>HLA</td>\n",
       "      <td>F606W</td>\n",
       "      <td>2003-03-13 20:26:17.25</td>\n",
       "      <td>1100.0</td>\n",
       "      <td>POLYGON J2000 266.27582799999999 -28.951051000...</td>\n",
       "      <td>2003-03-13 20:47:17.24</td>\n",
       "      <td>hst_09676_x8_wfpc2_f606w_pc</td>\n",
       "    </tr>\n",
       "    <tr>\n",
       "      <th>2</th>\n",
       "      <td>http://archives.esac.esa.int/ehst-sl-server/se...</td>\n",
       "      <td>http://archives.esac.esa.int/ehst-sl-server/se...</td>\n",
       "      <td>hst_09598_3a_wfpc2_f656n_pc</td>\n",
       "      <td>266.276156</td>\n",
       "      <td>-28.943571</td>\n",
       "      <td>EARTH-CALIB</td>\n",
       "      <td>WFPC2</td>\n",
       "      <td>HLA</td>\n",
       "      <td>F656N</td>\n",
       "      <td>2003-03-13 21:16:17.11</td>\n",
       "      <td>0.7</td>\n",
       "      <td>POLYGON J2000 266.267831000000001 -28.95085500...</td>\n",
       "      <td>2003-03-13 21:18:17.47</td>\n",
       "      <td>hst_09598_3a_wfpc2_f656n_pc</td>\n",
       "    </tr>\n",
       "    <tr>\n",
       "      <th>3</th>\n",
       "      <td>http://archives.esac.esa.int/ehst-sl-server/se...</td>\n",
       "      <td>http://archives.esac.esa.int/ehst-sl-server/se...</td>\n",
       "      <td>hst_09244_9m_wfpc2_f606w_pc</td>\n",
       "      <td>266.279368</td>\n",
       "      <td>-28.944208</td>\n",
       "      <td>ANY</td>\n",
       "      <td>WFPC2</td>\n",
       "      <td>HLA</td>\n",
       "      <td>F606W</td>\n",
       "      <td>2001-03-22 16:03:14.86</td>\n",
       "      <td>2500.0</td>\n",
       "      <td>POLYGON J2000 266.279143999999917 -28.95116100...</td>\n",
       "      <td>2001-03-22 16:47:14.86</td>\n",
       "      <td>hst_09244_9m_wfpc2_f606w_pc</td>\n",
       "    </tr>\n",
       "    <tr>\n",
       "      <th>4</th>\n",
       "      <td>http://archives.esac.esa.int/ehst-sl-server/se...</td>\n",
       "      <td>http://archives.esac.esa.int/ehst-sl-server/se...</td>\n",
       "      <td>hst_07909_rb_wfpc2_f606w_wf</td>\n",
       "      <td>266.265018</td>\n",
       "      <td>-28.941840</td>\n",
       "      <td>ANY</td>\n",
       "      <td>WFPC2</td>\n",
       "      <td>HLA</td>\n",
       "      <td>F606W</td>\n",
       "      <td>1998-08-13 11:59:14.11</td>\n",
       "      <td>2200.0</td>\n",
       "      <td>POLYGON J2000 266.269665999999972 -28.97094800...</td>\n",
       "      <td>1998-08-13 12:38:14.11</td>\n",
       "      <td>hst_07909_rb_wfpc2_f606w_wf</td>\n",
       "    </tr>\n",
       "  </tbody>\n",
       "</table>\n",
       "</div>"
      ],
      "text/plain": [
       "                                        postcard_url  \\\n",
       "0  http://archives.esac.esa.int/ehst-sl-server/se...   \n",
       "1  http://archives.esac.esa.int/ehst-sl-server/se...   \n",
       "2  http://archives.esac.esa.int/ehst-sl-server/se...   \n",
       "3  http://archives.esac.esa.int/ehst-sl-server/se...   \n",
       "4  http://archives.esac.esa.int/ehst-sl-server/se...   \n",
       "\n",
       "                                         product_url  \\\n",
       "0  http://archives.esac.esa.int/ehst-sl-server/se...   \n",
       "1  http://archives.esac.esa.int/ehst-sl-server/se...   \n",
       "2  http://archives.esac.esa.int/ehst-sl-server/se...   \n",
       "3  http://archives.esac.esa.int/ehst-sl-server/se...   \n",
       "4  http://archives.esac.esa.int/ehst-sl-server/se...   \n",
       "\n",
       "                observation_id      ra_deg    dec_deg  target_name  \\\n",
       "0  hst_07909_rb_wfpc2_f606w_pc  266.275245 -28.941184          ANY   \n",
       "1  hst_09676_x8_wfpc2_f606w_pc  266.275913 -28.944096          ANY   \n",
       "2  hst_09598_3a_wfpc2_f656n_pc  266.276156 -28.943571  EARTH-CALIB   \n",
       "3  hst_09244_9m_wfpc2_f606w_pc  266.279368 -28.944208          ANY   \n",
       "4  hst_07909_rb_wfpc2_f606w_wf  266.265018 -28.941840          ANY   \n",
       "\n",
       "  instrument_name collection filter              start_time  \\\n",
       "0           WFPC2        HLA  F606W  1998-08-13 11:59:14.11   \n",
       "1           WFPC2        HLA  F606W  2003-03-13 20:26:17.25   \n",
       "2           WFPC2        HLA  F656N  2003-03-13 21:16:17.11   \n",
       "3           WFPC2        HLA  F606W  2001-03-22 16:03:14.86   \n",
       "4           WFPC2        HLA  F606W  1998-08-13 11:59:14.11   \n",
       "\n",
       "   exposure_duration                                              stc_s  \\\n",
       "0             2200.0  POLYGON J2000 266.275620000000004 -28.94818200...   \n",
       "1             1100.0  POLYGON J2000 266.27582799999999 -28.951051000...   \n",
       "2                0.7  POLYGON J2000 266.267831000000001 -28.95085500...   \n",
       "3             2500.0  POLYGON J2000 266.279143999999917 -28.95116100...   \n",
       "4             2200.0  POLYGON J2000 266.269665999999972 -28.97094800...   \n",
       "\n",
       "                 end_time              observation_oid  \n",
       "0  1998-08-13 12:38:14.11  hst_07909_rb_wfpc2_f606w_pc  \n",
       "1  2003-03-13 20:47:17.24  hst_09676_x8_wfpc2_f606w_pc  \n",
       "2  2003-03-13 21:18:17.47  hst_09598_3a_wfpc2_f656n_pc  \n",
       "3  2001-03-22 16:47:14.86  hst_09244_9m_wfpc2_f606w_pc  \n",
       "4  1998-08-13 12:38:14.11  hst_07909_rb_wfpc2_f606w_wf  "
      ]
     },
     "execution_count": 7,
     "metadata": {},
     "output_type": "execute_result"
    }
   ],
   "source": [
    "result.head()"
   ]
  },
  {
   "cell_type": "markdown",
   "metadata": {},
   "source": [
    "# Dropping irrelevant columns and encoding categorical columns"
   ]
  },
  {
   "cell_type": "code",
   "execution_count": 8,
   "metadata": {
    "execution": {
     "iopub.execute_input": "2024-05-05T13:12:28.395259Z",
     "iopub.status.busy": "2024-05-05T13:12:28.394843Z",
     "iopub.status.idle": "2024-05-05T13:12:28.410229Z",
     "shell.execute_reply": "2024-05-05T13:12:28.408943Z",
     "shell.execute_reply.started": "2024-05-05T13:12:28.395216Z"
    }
   },
   "outputs": [],
   "source": [
    "# We drop irrelavant columns \n",
    "result.drop(['product_url'],axis=1, inplace=True)\n",
    "result.drop(['postcard_url'], axis=1, inplace=True)\n",
    "result.drop(['observation_id'], axis=1, inplace=True)"
   ]
  },
  {
   "cell_type": "code",
   "execution_count": 9,
   "metadata": {
    "execution": {
     "iopub.execute_input": "2024-05-05T13:12:32.820146Z",
     "iopub.status.busy": "2024-05-05T13:12:32.819763Z",
     "iopub.status.idle": "2024-05-05T13:12:32.841586Z",
     "shell.execute_reply": "2024-05-05T13:12:32.840401Z",
     "shell.execute_reply.started": "2024-05-05T13:12:32.820102Z"
    }
   },
   "outputs": [
    {
     "data": {
      "text/html": [
       "<div>\n",
       "<style scoped>\n",
       "    .dataframe tbody tr th:only-of-type {\n",
       "        vertical-align: middle;\n",
       "    }\n",
       "\n",
       "    .dataframe tbody tr th {\n",
       "        vertical-align: top;\n",
       "    }\n",
       "\n",
       "    .dataframe thead th {\n",
       "        text-align: right;\n",
       "    }\n",
       "</style>\n",
       "<table border=\"1\" class=\"dataframe\">\n",
       "  <thead>\n",
       "    <tr style=\"text-align: right;\">\n",
       "      <th></th>\n",
       "      <th>ra_deg</th>\n",
       "      <th>dec_deg</th>\n",
       "      <th>target_name</th>\n",
       "      <th>instrument_name</th>\n",
       "      <th>collection</th>\n",
       "      <th>filter</th>\n",
       "      <th>start_time</th>\n",
       "      <th>exposure_duration</th>\n",
       "      <th>stc_s</th>\n",
       "      <th>end_time</th>\n",
       "      <th>observation_oid</th>\n",
       "    </tr>\n",
       "  </thead>\n",
       "  <tbody>\n",
       "    <tr>\n",
       "      <th>0</th>\n",
       "      <td>266.275245</td>\n",
       "      <td>-28.941184</td>\n",
       "      <td>ANY</td>\n",
       "      <td>WFPC2</td>\n",
       "      <td>HLA</td>\n",
       "      <td>F606W</td>\n",
       "      <td>1998-08-13 11:59:14.11</td>\n",
       "      <td>2200.0</td>\n",
       "      <td>POLYGON J2000 266.275620000000004 -28.94818200...</td>\n",
       "      <td>1998-08-13 12:38:14.11</td>\n",
       "      <td>hst_07909_rb_wfpc2_f606w_pc</td>\n",
       "    </tr>\n",
       "    <tr>\n",
       "      <th>1</th>\n",
       "      <td>266.275913</td>\n",
       "      <td>-28.944096</td>\n",
       "      <td>ANY</td>\n",
       "      <td>WFPC2</td>\n",
       "      <td>HLA</td>\n",
       "      <td>F606W</td>\n",
       "      <td>2003-03-13 20:26:17.25</td>\n",
       "      <td>1100.0</td>\n",
       "      <td>POLYGON J2000 266.27582799999999 -28.951051000...</td>\n",
       "      <td>2003-03-13 20:47:17.24</td>\n",
       "      <td>hst_09676_x8_wfpc2_f606w_pc</td>\n",
       "    </tr>\n",
       "    <tr>\n",
       "      <th>2</th>\n",
       "      <td>266.276156</td>\n",
       "      <td>-28.943571</td>\n",
       "      <td>EARTH-CALIB</td>\n",
       "      <td>WFPC2</td>\n",
       "      <td>HLA</td>\n",
       "      <td>F656N</td>\n",
       "      <td>2003-03-13 21:16:17.11</td>\n",
       "      <td>0.7</td>\n",
       "      <td>POLYGON J2000 266.267831000000001 -28.95085500...</td>\n",
       "      <td>2003-03-13 21:18:17.47</td>\n",
       "      <td>hst_09598_3a_wfpc2_f656n_pc</td>\n",
       "    </tr>\n",
       "    <tr>\n",
       "      <th>3</th>\n",
       "      <td>266.279368</td>\n",
       "      <td>-28.944208</td>\n",
       "      <td>ANY</td>\n",
       "      <td>WFPC2</td>\n",
       "      <td>HLA</td>\n",
       "      <td>F606W</td>\n",
       "      <td>2001-03-22 16:03:14.86</td>\n",
       "      <td>2500.0</td>\n",
       "      <td>POLYGON J2000 266.279143999999917 -28.95116100...</td>\n",
       "      <td>2001-03-22 16:47:14.86</td>\n",
       "      <td>hst_09244_9m_wfpc2_f606w_pc</td>\n",
       "    </tr>\n",
       "    <tr>\n",
       "      <th>4</th>\n",
       "      <td>266.265018</td>\n",
       "      <td>-28.941840</td>\n",
       "      <td>ANY</td>\n",
       "      <td>WFPC2</td>\n",
       "      <td>HLA</td>\n",
       "      <td>F606W</td>\n",
       "      <td>1998-08-13 11:59:14.11</td>\n",
       "      <td>2200.0</td>\n",
       "      <td>POLYGON J2000 266.269665999999972 -28.97094800...</td>\n",
       "      <td>1998-08-13 12:38:14.11</td>\n",
       "      <td>hst_07909_rb_wfpc2_f606w_wf</td>\n",
       "    </tr>\n",
       "  </tbody>\n",
       "</table>\n",
       "</div>"
      ],
      "text/plain": [
       "       ra_deg    dec_deg  target_name instrument_name collection filter  \\\n",
       "0  266.275245 -28.941184          ANY           WFPC2        HLA  F606W   \n",
       "1  266.275913 -28.944096          ANY           WFPC2        HLA  F606W   \n",
       "2  266.276156 -28.943571  EARTH-CALIB           WFPC2        HLA  F656N   \n",
       "3  266.279368 -28.944208          ANY           WFPC2        HLA  F606W   \n",
       "4  266.265018 -28.941840          ANY           WFPC2        HLA  F606W   \n",
       "\n",
       "               start_time  exposure_duration  \\\n",
       "0  1998-08-13 11:59:14.11             2200.0   \n",
       "1  2003-03-13 20:26:17.25             1100.0   \n",
       "2  2003-03-13 21:16:17.11                0.7   \n",
       "3  2001-03-22 16:03:14.86             2500.0   \n",
       "4  1998-08-13 11:59:14.11             2200.0   \n",
       "\n",
       "                                               stc_s                end_time  \\\n",
       "0  POLYGON J2000 266.275620000000004 -28.94818200...  1998-08-13 12:38:14.11   \n",
       "1  POLYGON J2000 266.27582799999999 -28.951051000...  2003-03-13 20:47:17.24   \n",
       "2  POLYGON J2000 266.267831000000001 -28.95085500...  2003-03-13 21:18:17.47   \n",
       "3  POLYGON J2000 266.279143999999917 -28.95116100...  2001-03-22 16:47:14.86   \n",
       "4  POLYGON J2000 266.269665999999972 -28.97094800...  1998-08-13 12:38:14.11   \n",
       "\n",
       "               observation_oid  \n",
       "0  hst_07909_rb_wfpc2_f606w_pc  \n",
       "1  hst_09676_x8_wfpc2_f606w_pc  \n",
       "2  hst_09598_3a_wfpc2_f656n_pc  \n",
       "3  hst_09244_9m_wfpc2_f606w_pc  \n",
       "4  hst_07909_rb_wfpc2_f606w_wf  "
      ]
     },
     "execution_count": 9,
     "metadata": {},
     "output_type": "execute_result"
    }
   ],
   "source": [
    "result.head()"
   ]
  },
  {
   "cell_type": "code",
   "execution_count": 10,
   "metadata": {
    "execution": {
     "iopub.execute_input": "2024-05-05T13:12:36.717931Z",
     "iopub.status.busy": "2024-05-05T13:12:36.717567Z",
     "iopub.status.idle": "2024-05-05T13:12:37.349658Z",
     "shell.execute_reply": "2024-05-05T13:12:37.348775Z",
     "shell.execute_reply.started": "2024-05-05T13:12:36.717896Z"
    }
   },
   "outputs": [],
   "source": [
    "# we use label encoding\n",
    "\n",
    "# Import label encoder\n",
    "from sklearn import preprocessing\n",
    " \n",
    "# label_encoder object knows how to understand word labels.\n",
    "label_encoder = preprocessing.LabelEncoder()\n",
    " \n",
    "# Encode labels in column instrument_name\tcollection\tfilter\t.\n",
    "result['target_name']= label_encoder.fit_transform(result['target_name'])\n",
    "result['instrument_name']= label_encoder.fit_transform(result['instrument_name'])\n",
    "result['collection']= label_encoder.fit_transform(result['collection'])\n",
    "result['filter']= label_encoder.fit_transform(result['filter'])\n",
    "result['observation_oid']= label_encoder.fit_transform(result['observation_oid'])\n",
    "result['stc_s']= label_encoder.fit_transform(result['stc_s'])"
   ]
  },
  {
   "cell_type": "markdown",
   "metadata": {},
   "source": [
    "# Checking time difference between space event start and end date and the avarage time difference "
   ]
  },
  {
   "cell_type": "code",
   "execution_count": 11,
   "metadata": {
    "execution": {
     "iopub.execute_input": "2024-05-05T13:12:43.119969Z",
     "iopub.status.busy": "2024-05-05T13:12:43.118958Z",
     "iopub.status.idle": "2024-05-05T13:12:43.131028Z",
     "shell.execute_reply": "2024-05-05T13:12:43.130075Z",
     "shell.execute_reply.started": "2024-05-05T13:12:43.119906Z"
    }
   },
   "outputs": [],
   "source": [
    "result['start_time'] = pd.to_datetime(result['start_time'])\n",
    "result['end_time'] = pd.to_datetime(result['end_time'])"
   ]
  },
  {
   "cell_type": "code",
   "execution_count": 12,
   "metadata": {
    "execution": {
     "iopub.execute_input": "2024-05-05T13:12:46.768700Z",
     "iopub.status.busy": "2024-05-05T13:12:46.767969Z",
     "iopub.status.idle": "2024-05-05T13:12:46.779498Z",
     "shell.execute_reply": "2024-05-05T13:12:46.778580Z",
     "shell.execute_reply.started": "2024-05-05T13:12:46.768652Z"
    }
   },
   "outputs": [
    {
     "data": {
      "text/plain": [
       "-0.2615118464052288"
      ]
     },
     "execution_count": 12,
     "metadata": {},
     "output_type": "execute_result"
    }
   ],
   "source": [
    "# we now calculate the average difference between Order_Purchased and Recieved_by_customer\n",
    "timediff = result['start_time'] - result['end_time']\n",
    "timediff.apply(lambda x: (x.total_seconds())/3600).mean()"
   ]
  },
  {
   "cell_type": "code",
   "execution_count": 13,
   "metadata": {
    "execution": {
     "iopub.execute_input": "2024-05-05T13:12:51.238057Z",
     "iopub.status.busy": "2024-05-05T13:12:51.237059Z",
     "iopub.status.idle": "2024-05-05T13:12:51.245742Z",
     "shell.execute_reply": "2024-05-05T13:12:51.244719Z",
     "shell.execute_reply.started": "2024-05-05T13:12:51.238006Z"
    }
   },
   "outputs": [],
   "source": [
    "result['time_diff'] = timediff.apply(lambda x: (x.total_seconds())/3600)"
   ]
  },
  {
   "cell_type": "code",
   "execution_count": 14,
   "metadata": {
    "execution": {
     "iopub.execute_input": "2024-05-05T13:12:53.888807Z",
     "iopub.status.busy": "2024-05-05T13:12:53.888451Z",
     "iopub.status.idle": "2024-05-05T13:12:53.912401Z",
     "shell.execute_reply": "2024-05-05T13:12:53.911449Z",
     "shell.execute_reply.started": "2024-05-05T13:12:53.888770Z"
    }
   },
   "outputs": [
    {
     "data": {
      "text/html": [
       "<div>\n",
       "<style scoped>\n",
       "    .dataframe tbody tr th:only-of-type {\n",
       "        vertical-align: middle;\n",
       "    }\n",
       "\n",
       "    .dataframe tbody tr th {\n",
       "        vertical-align: top;\n",
       "    }\n",
       "\n",
       "    .dataframe thead th {\n",
       "        text-align: right;\n",
       "    }\n",
       "</style>\n",
       "<table border=\"1\" class=\"dataframe\">\n",
       "  <thead>\n",
       "    <tr style=\"text-align: right;\">\n",
       "      <th></th>\n",
       "      <th>ra_deg</th>\n",
       "      <th>dec_deg</th>\n",
       "      <th>target_name</th>\n",
       "      <th>instrument_name</th>\n",
       "      <th>collection</th>\n",
       "      <th>filter</th>\n",
       "      <th>start_time</th>\n",
       "      <th>exposure_duration</th>\n",
       "      <th>stc_s</th>\n",
       "      <th>end_time</th>\n",
       "      <th>observation_oid</th>\n",
       "      <th>time_diff</th>\n",
       "    </tr>\n",
       "  </thead>\n",
       "  <tbody>\n",
       "    <tr>\n",
       "      <th>0</th>\n",
       "      <td>266.275245</td>\n",
       "      <td>-28.941184</td>\n",
       "      <td>0</td>\n",
       "      <td>4</td>\n",
       "      <td>0</td>\n",
       "      <td>6</td>\n",
       "      <td>1998-08-13 11:59:14.110</td>\n",
       "      <td>2200.0</td>\n",
       "      <td>20</td>\n",
       "      <td>1998-08-13 12:38:14.110</td>\n",
       "      <td>2</td>\n",
       "      <td>-0.650000</td>\n",
       "    </tr>\n",
       "    <tr>\n",
       "      <th>1</th>\n",
       "      <td>266.275913</td>\n",
       "      <td>-28.944096</td>\n",
       "      <td>0</td>\n",
       "      <td>4</td>\n",
       "      <td>0</td>\n",
       "      <td>6</td>\n",
       "      <td>2003-03-13 20:26:17.250</td>\n",
       "      <td>1100.0</td>\n",
       "      <td>21</td>\n",
       "      <td>2003-03-13 20:47:17.240</td>\n",
       "      <td>7</td>\n",
       "      <td>-0.349997</td>\n",
       "    </tr>\n",
       "    <tr>\n",
       "      <th>2</th>\n",
       "      <td>266.276156</td>\n",
       "      <td>-28.943571</td>\n",
       "      <td>1</td>\n",
       "      <td>4</td>\n",
       "      <td>0</td>\n",
       "      <td>7</td>\n",
       "      <td>2003-03-13 21:16:17.110</td>\n",
       "      <td>0.7</td>\n",
       "      <td>18</td>\n",
       "      <td>2003-03-13 21:18:17.470</td>\n",
       "      <td>6</td>\n",
       "      <td>-0.033433</td>\n",
       "    </tr>\n",
       "    <tr>\n",
       "      <th>3</th>\n",
       "      <td>266.279368</td>\n",
       "      <td>-28.944208</td>\n",
       "      <td>0</td>\n",
       "      <td>4</td>\n",
       "      <td>0</td>\n",
       "      <td>6</td>\n",
       "      <td>2001-03-22 16:03:14.860</td>\n",
       "      <td>2500.0</td>\n",
       "      <td>22</td>\n",
       "      <td>2001-03-22 16:47:14.860</td>\n",
       "      <td>5</td>\n",
       "      <td>-0.733333</td>\n",
       "    </tr>\n",
       "    <tr>\n",
       "      <th>4</th>\n",
       "      <td>266.265018</td>\n",
       "      <td>-28.941840</td>\n",
       "      <td>0</td>\n",
       "      <td>4</td>\n",
       "      <td>0</td>\n",
       "      <td>6</td>\n",
       "      <td>1998-08-13 11:59:14.110</td>\n",
       "      <td>2200.0</td>\n",
       "      <td>19</td>\n",
       "      <td>1998-08-13 12:38:14.110</td>\n",
       "      <td>3</td>\n",
       "      <td>-0.650000</td>\n",
       "    </tr>\n",
       "  </tbody>\n",
       "</table>\n",
       "</div>"
      ],
      "text/plain": [
       "       ra_deg    dec_deg  target_name  instrument_name  collection  filter  \\\n",
       "0  266.275245 -28.941184            0                4           0       6   \n",
       "1  266.275913 -28.944096            0                4           0       6   \n",
       "2  266.276156 -28.943571            1                4           0       7   \n",
       "3  266.279368 -28.944208            0                4           0       6   \n",
       "4  266.265018 -28.941840            0                4           0       6   \n",
       "\n",
       "               start_time  exposure_duration  stc_s                end_time  \\\n",
       "0 1998-08-13 11:59:14.110             2200.0     20 1998-08-13 12:38:14.110   \n",
       "1 2003-03-13 20:26:17.250             1100.0     21 2003-03-13 20:47:17.240   \n",
       "2 2003-03-13 21:16:17.110                0.7     18 2003-03-13 21:18:17.470   \n",
       "3 2001-03-22 16:03:14.860             2500.0     22 2001-03-22 16:47:14.860   \n",
       "4 1998-08-13 11:59:14.110             2200.0     19 1998-08-13 12:38:14.110   \n",
       "\n",
       "   observation_oid  time_diff  \n",
       "0                2  -0.650000  \n",
       "1                7  -0.349997  \n",
       "2                6  -0.033433  \n",
       "3                5  -0.733333  \n",
       "4                3  -0.650000  "
      ]
     },
     "execution_count": 14,
     "metadata": {},
     "output_type": "execute_result"
    }
   ],
   "source": [
    "# checking summry of data after transformations\n",
    "result.head()"
   ]
  },
  {
   "cell_type": "markdown",
   "metadata": {},
   "source": [
    "# EDA"
   ]
  },
  {
   "cell_type": "code",
   "execution_count": 15,
   "metadata": {
    "execution": {
     "iopub.execute_input": "2024-05-05T13:12:57.705833Z",
     "iopub.status.busy": "2024-05-05T13:12:57.704817Z",
     "iopub.status.idle": "2024-05-05T13:12:57.939865Z",
     "shell.execute_reply": "2024-05-05T13:12:57.939081Z",
     "shell.execute_reply.started": "2024-05-05T13:12:57.705776Z"
    }
   },
   "outputs": [
    {
     "data": {
      "image/png": "[encoded data removed]",
      "text/plain": [
       "<Figure size 432x288 with 1 Axes>"
      ]
     },
     "metadata": {
      "needs_background": "light"
     },
     "output_type": "display_data"
    }
   ],
   "source": [
    "from matplotlib import pyplot as plt\n",
    "x = result['dec_deg']\n",
    "y = result['time_diff']\n",
    "plt.xlabel(\"dec_deg\")\n",
    "plt.ylabel(\"time_diff\")\n",
    "plt.plot(x,y)\n",
    "plt.show();"
   ]
  },
  {
   "cell_type": "markdown",
   "metadata": {},
   "source": [
    "Most observed Aestroids near to earth have almost no time difference in observation showing we havent been able to spot them near enough in time due to limited observatories globally"
   ]
  },
  {
   "cell_type": "code",
   "execution_count": 16,
   "metadata": {
    "execution": {
     "iopub.execute_input": "2024-05-05T13:13:01.138007Z",
     "iopub.status.busy": "2024-05-05T13:13:01.137652Z",
     "iopub.status.idle": "2024-05-05T13:13:01.594394Z",
     "shell.execute_reply": "2024-05-05T13:13:01.593406Z",
     "shell.execute_reply.started": "2024-05-05T13:13:01.137963Z"
    }
   },
   "outputs": [
    {
     "data": {
      "image/png": "[encoded data removed]",
      "text/plain": [
       "<Figure size 432x288 with 1 Axes>"
      ]
     },
     "metadata": {
      "needs_background": "light"
     },
     "output_type": "display_data"
    }
   ],
   "source": [
    "# USING BARPLOT WITH SEABORN LIBRARY,it also shows errors calulcated throughits error bars here \n",
    "import seaborn as sns\n",
    "ax = sns.barplot(x = 'collection', y = 'filter', errcolor='w', capsize=0.2, data=result);"
   ]
  },
  {
   "cell_type": "markdown",
   "metadata": {},
   "source": [
    "Most filters lie in the collection - 1, Implying most observations(1) were done due to using increasing filters on advanced telescopy"
   ]
  },
  {
   "cell_type": "markdown",
   "metadata": {},
   "source": [
    "# Model Building - nueral network regression"
   ]
  },
  {
   "cell_type": "code",
   "execution_count": 17,
   "metadata": {
    "execution": {
     "iopub.execute_input": "2024-05-05T13:13:09.441988Z",
     "iopub.status.busy": "2024-05-05T13:13:09.441652Z",
     "iopub.status.idle": "2024-05-05T13:13:09.450778Z",
     "shell.execute_reply": "2024-05-05T13:13:09.450058Z",
     "shell.execute_reply.started": "2024-05-05T13:13:09.441953Z"
    }
   },
   "outputs": [],
   "source": [
    "# we drop the start and end time as we now have the time difference \n",
    "result.drop(['end_time'],axis=1, inplace=True)\n",
    "result.drop(['start_time'], axis=1, inplace=True)"
   ]
  },
  {
   "cell_type": "code",
   "execution_count": 18,
   "metadata": {
    "execution": {
     "iopub.execute_input": "2024-05-05T13:13:13.148157Z",
     "iopub.status.busy": "2024-05-05T13:13:13.147750Z",
     "iopub.status.idle": "2024-05-05T13:13:13.194494Z",
     "shell.execute_reply": "2024-05-05T13:13:13.193397Z",
     "shell.execute_reply.started": "2024-05-05T13:13:13.148114Z"
    }
   },
   "outputs": [
    {
     "data": {
      "text/html": [
       "<div>\n",
       "<style scoped>\n",
       "    .dataframe tbody tr th:only-of-type {\n",
       "        vertical-align: middle;\n",
       "    }\n",
       "\n",
       "    .dataframe tbody tr th {\n",
       "        vertical-align: top;\n",
       "    }\n",
       "\n",
       "    .dataframe thead th {\n",
       "        text-align: right;\n",
       "    }\n",
       "</style>\n",
       "<table border=\"1\" class=\"dataframe\">\n",
       "  <thead>\n",
       "    <tr style=\"text-align: right;\">\n",
       "      <th></th>\n",
       "      <th>ra_deg</th>\n",
       "      <th>dec_deg</th>\n",
       "      <th>target_name</th>\n",
       "      <th>instrument_name</th>\n",
       "      <th>collection</th>\n",
       "      <th>filter</th>\n",
       "      <th>exposure_duration</th>\n",
       "      <th>stc_s</th>\n",
       "      <th>observation_oid</th>\n",
       "      <th>time_diff</th>\n",
       "    </tr>\n",
       "  </thead>\n",
       "  <tbody>\n",
       "    <tr>\n",
       "      <th>count</th>\n",
       "      <td>34.000000</td>\n",
       "      <td>34.000000</td>\n",
       "      <td>34.000000</td>\n",
       "      <td>34.000000</td>\n",
       "      <td>34.000000</td>\n",
       "      <td>34.000000</td>\n",
       "      <td>34.000000</td>\n",
       "      <td>34.000000</td>\n",
       "      <td>34.000000</td>\n",
       "      <td>34.000000</td>\n",
       "    </tr>\n",
       "    <tr>\n",
       "      <th>mean</th>\n",
       "      <td>227.995765</td>\n",
       "      <td>3.725337</td>\n",
       "      <td>3.941176</td>\n",
       "      <td>3.147059</td>\n",
       "      <td>0.705882</td>\n",
       "      <td>6.264706</td>\n",
       "      <td>603.046246</td>\n",
       "      <td>14.617647</td>\n",
       "      <td>13.970588</td>\n",
       "      <td>-0.261512</td>\n",
       "    </tr>\n",
       "    <tr>\n",
       "      <th>std</th>\n",
       "      <td>36.087596</td>\n",
       "      <td>40.702111</td>\n",
       "      <td>2.984213</td>\n",
       "      <td>1.438272</td>\n",
       "      <td>0.462497</td>\n",
       "      <td>3.008159</td>\n",
       "      <td>1060.543208</td>\n",
       "      <td>8.000056</td>\n",
       "      <td>7.469069</td>\n",
       "      <td>0.468904</td>\n",
       "    </tr>\n",
       "    <tr>\n",
       "      <th>min</th>\n",
       "      <td>189.995831</td>\n",
       "      <td>-43.039392</td>\n",
       "      <td>0.000000</td>\n",
       "      <td>0.000000</td>\n",
       "      <td>0.000000</td>\n",
       "      <td>0.000000</td>\n",
       "      <td>0.700000</td>\n",
       "      <td>0.000000</td>\n",
       "      <td>0.000000</td>\n",
       "      <td>-2.333333</td>\n",
       "    </tr>\n",
       "    <tr>\n",
       "      <th>25%</th>\n",
       "      <td>201.351845</td>\n",
       "      <td>-28.943965</td>\n",
       "      <td>2.000000</td>\n",
       "      <td>3.000000</td>\n",
       "      <td>0.000000</td>\n",
       "      <td>4.250000</td>\n",
       "      <td>2.700000</td>\n",
       "      <td>8.250000</td>\n",
       "      <td>8.250000</td>\n",
       "      <td>-0.311381</td>\n",
       "    </tr>\n",
       "    <tr>\n",
       "      <th>50%</th>\n",
       "      <td>214.498203</td>\n",
       "      <td>-11.623016</td>\n",
       "      <td>3.000000</td>\n",
       "      <td>3.000000</td>\n",
       "      <td>1.000000</td>\n",
       "      <td>6.500000</td>\n",
       "      <td>55.000000</td>\n",
       "      <td>15.500000</td>\n",
       "      <td>15.000000</td>\n",
       "      <td>-0.049947</td>\n",
       "    </tr>\n",
       "    <tr>\n",
       "      <th>75%</th>\n",
       "      <td>266.278565</td>\n",
       "      <td>25.136791</td>\n",
       "      <td>5.750000</td>\n",
       "      <td>4.000000</td>\n",
       "      <td>1.000000</td>\n",
       "      <td>9.000000</td>\n",
       "      <td>669.500000</td>\n",
       "      <td>21.750000</td>\n",
       "      <td>19.000000</td>\n",
       "      <td>-0.049494</td>\n",
       "    </tr>\n",
       "    <tr>\n",
       "      <th>max</th>\n",
       "      <td>275.488488</td>\n",
       "      <td>64.343397</td>\n",
       "      <td>9.000000</td>\n",
       "      <td>6.000000</td>\n",
       "      <td>1.000000</td>\n",
       "      <td>9.000000</td>\n",
       "      <td>5000.000000</td>\n",
       "      <td>26.000000</td>\n",
       "      <td>26.000000</td>\n",
       "      <td>-0.002778</td>\n",
       "    </tr>\n",
       "  </tbody>\n",
       "</table>\n",
       "</div>"
      ],
      "text/plain": [
       "           ra_deg    dec_deg  target_name  instrument_name  collection  \\\n",
       "count   34.000000  34.000000    34.000000        34.000000   34.000000   \n",
       "mean   227.995765   3.725337     3.941176         3.147059    0.705882   \n",
       "std     36.087596  40.702111     2.984213         1.438272    0.462497   \n",
       "min    189.995831 -43.039392     0.000000         0.000000    0.000000   \n",
       "25%    201.351845 -28.943965     2.000000         3.000000    0.000000   \n",
       "50%    214.498203 -11.623016     3.000000         3.000000    1.000000   \n",
       "75%    266.278565  25.136791     5.750000         4.000000    1.000000   \n",
       "max    275.488488  64.343397     9.000000         6.000000    1.000000   \n",
       "\n",
       "          filter  exposure_duration      stc_s  observation_oid  time_diff  \n",
       "count  34.000000          34.000000  34.000000        34.000000  34.000000  \n",
       "mean    6.264706         603.046246  14.617647        13.970588  -0.261512  \n",
       "std     3.008159        1060.543208   8.000056         7.469069   0.468904  \n",
       "min     0.000000           0.700000   0.000000         0.000000  -2.333333  \n",
       "25%     4.250000           2.700000   8.250000         8.250000  -0.311381  \n",
       "50%     6.500000          55.000000  15.500000        15.000000  -0.049947  \n",
       "75%     9.000000         669.500000  21.750000        19.000000  -0.049494  \n",
       "max     9.000000        5000.000000  26.000000        26.000000  -0.002778  "
      ]
     },
     "execution_count": 18,
     "metadata": {},
     "output_type": "execute_result"
    }
   ],
   "source": [
    "# we check the statistical summary\n",
    "result.describe()"
   ]
  },
  {
   "cell_type": "code",
   "execution_count": 19,
   "metadata": {
    "execution": {
     "iopub.execute_input": "2024-05-05T13:13:21.502609Z",
     "iopub.status.busy": "2024-05-05T13:13:21.502225Z",
     "iopub.status.idle": "2024-05-05T13:13:21.935218Z",
     "shell.execute_reply": "2024-05-05T13:13:21.934312Z",
     "shell.execute_reply.started": "2024-05-05T13:13:21.502571Z"
    }
   },
   "outputs": [
    {
     "data": {
      "text/plain": [
       "<AxesSubplot:>"
      ]
     },
     "execution_count": 19,
     "metadata": {},
     "output_type": "execute_result"
    },
    {
     "data": {
      "image/png": "[encoded data removed]",
      "text/plain": [
       "<Figure size 432x288 with 2 Axes>"
      ]
     },
     "metadata": {
      "needs_background": "light"
     },
     "output_type": "display_data"
    }
   ],
   "source": [
    "sns.heatmap(res)ult.corr()"
   ]
  },
  {
   "cell_type": "markdown",
   "metadata": {},
   "source": [
    "we can see that correlations between variables are relatively strong in crossing 0.25 on average "
   ]
  },
  {
   "cell_type": "code",
   "execution_count": 20,
   "metadata": {
    "execution": {
     "iopub.execute_input": "2024-05-05T13:13:26.004873Z",
     "iopub.status.busy": "2024-05-05T13:13:26.004144Z",
     "iopub.status.idle": "2024-05-05T13:13:32.565299Z",
     "shell.execute_reply": "2024-05-05T13:13:32.564312Z",
     "shell.execute_reply.started": "2024-05-05T13:13:26.004829Z"
    }
   },
   "outputs": [],
   "source": [
    "import numpy as np\n",
    "import matplotlib.pyplot as plt\n",
    "import pandas as pd\n",
    "from pandas import read_csv\n",
    "import math\n",
    "from keras.models import Sequential\n",
    "from keras.layers import Dense\n",
    "from keras.layers import LSTM\n",
    "from sklearn.preprocessing import MinMaxScaler\n",
    "from sklearn.metrics import mean_squared_error\n",
    "from keras.layers.core import Dense, Activation, Dropout\n",
    "from tensorflow.keras.optimizers import SGD\n",
    "import time #helper libraries"
   ]
  },
  {
   "cell_type": "code",
   "execution_count": 21,
   "metadata": {
    "execution": {
     "iopub.execute_input": "2024-05-05T13:13:36.787845Z",
     "iopub.status.busy": "2024-05-05T13:13:36.787494Z",
     "iopub.status.idle": "2024-05-05T13:13:36.814421Z",
     "shell.execute_reply": "2024-05-05T13:13:36.813575Z",
     "shell.execute_reply.started": "2024-05-05T13:13:36.787809Z"
    }
   },
   "outputs": [],
   "source": [
    "import math\n",
    "import pandas as pd\n",
    "import tensorflow as tf\n",
    "import matplotlib.pyplot as plt\n",
    "from tensorflow.keras import Model\n",
    "from tensorflow.keras import Sequential\n",
    "from tensorflow.keras.optimizers import Adam\n",
    "from sklearn.preprocessing import StandardScaler\n",
    "from tensorflow.keras.layers import Dense, Dropout\n",
    "from sklearn.model_selection import train_test_split\n",
    "from tensorflow.keras.losses import MeanSquaredLogarithmicError"
   ]
  },
  {
   "cell_type": "code",
   "execution_count": 22,
   "metadata": {
    "execution": {
     "iopub.execute_input": "2024-05-05T13:13:40.241941Z",
     "iopub.status.busy": "2024-05-05T13:13:40.241180Z",
     "iopub.status.idle": "2024-05-05T13:13:40.251593Z",
     "shell.execute_reply": "2024-05-05T13:13:40.250813Z",
     "shell.execute_reply.started": "2024-05-05T13:13:40.241896Z"
    }
   },
   "outputs": [],
   "source": [
    "\n",
    "from sklearn.model_selection import train_test_split\n",
    "# create dataset\n",
    "X =  result['target_name']\n",
    "y = result.drop(['target_name'], axis=1)\n",
    "# split into train test sets\n",
    "X_train, X_test, y_train, y_test = train_test_split(X, y, test_size=0.20)"
   ]
  },
  {
   "cell_type": "code",
   "execution_count": 23,
   "metadata": {
    "execution": {
     "iopub.execute_input": "2024-05-05T13:13:47.722785Z",
     "iopub.status.busy": "2024-05-05T13:13:47.722382Z",
     "iopub.status.idle": "2024-05-05T13:13:47.729593Z",
     "shell.execute_reply": "2024-05-05T13:13:47.728679Z",
     "shell.execute_reply.started": "2024-05-05T13:13:47.722741Z"
    }
   },
   "outputs": [],
   "source": [
    "def scale_datasets(x_train, x_test):\n",
    "    \n",
    "    standard_scaler = StandardScaler()\n",
    "    x_train_scaled = pd.DataFrame(\n",
    "      standard_scaler.fit_transform(x_train),\n",
    "      columns=x_train.columns\n",
    "  )\n",
    "    x_test_scaled = pd.DataFrame(\n",
    "      standard_scaler.transform(x_test),\n",
    "      columns = x_test.columns\n",
    "  )\n",
    "    return x_train_scaled, x_test_scaled"
   ]
  },
  {
   "cell_type": "code",
   "execution_count": 24,
   "metadata": {
    "execution": {
     "iopub.execute_input": "2024-05-05T13:13:51.351878Z",
     "iopub.status.busy": "2024-05-05T13:13:51.351491Z",
     "iopub.status.idle": "2024-05-05T13:13:51.433752Z",
     "shell.execute_reply": "2024-05-05T13:13:51.432976Z",
     "shell.execute_reply.started": "2024-05-05T13:13:51.351837Z"
    }
   },
   "outputs": [],
   "source": [
    "hidden_units1 = 160\n",
    "hidden_units2 = 480\n",
    "hidden_units3 = 256\n",
    "learning_rate = 0.01\n",
    "# Creating model using the Sequential in tensorflow\n",
    "def build_model_using_sequential():\n",
    "  model = Sequential([\n",
    "    Dense(hidden_units1, kernel_initializer='normal', activation='relu'),\n",
    "    Dropout(0.2),\n",
    "    Dense(hidden_units2, kernel_initializer='normal', activation='relu'),\n",
    "    Dropout(0.2),\n",
    "    Dense(hidden_units3, kernel_initializer='normal', activation='relu'),\n",
    "    Dense(1, kernel_initializer='normal', activation='linear')\n",
    "  ])\n",
    "  return model\n",
    "# build the model\n",
    "model = build_model_using_sequential()"
   ]
  },
  {
   "cell_type": "code",
   "execution_count": 25,
   "metadata": {
    "execution": {
     "iopub.execute_input": "2024-05-05T13:13:55.344675Z",
     "iopub.status.busy": "2024-05-05T13:13:55.344179Z",
     "iopub.status.idle": "2024-05-05T13:13:57.170316Z",
     "shell.execute_reply": "2024-05-05T13:13:57.169164Z",
     "shell.execute_reply.started": "2024-05-05T13:13:55.344626Z"
    }
   },
   "outputs": [
    {
     "name": "stdout",
     "output_type": "stream",
     "text": [
      "Epoch 1/10\n",
      "1/1 [==============================] - 1s 1s/step - loss: 9.0723 - mean_squared_logarithmic_error: 9.0723 - val_loss: 7.3366 - val_mean_squared_logarithmic_error: 7.3366\n",
      "Epoch 2/10\n",
      "1/1 [==============================] - 0s 42ms/step - loss: 5.7733 - mean_squared_logarithmic_error: 5.7733 - val_loss: 5.7461 - val_mean_squared_logarithmic_error: 5.7461\n",
      "Epoch 3/10\n",
      "1/1 [==============================] - 0s 39ms/step - loss: 4.7028 - mean_squared_logarithmic_error: 4.7028 - val_loss: 5.3519 - val_mean_squared_logarithmic_error: 5.3519\n",
      "Epoch 4/10\n",
      "1/1 [==============================] - 0s 40ms/step - loss: 5.0557 - mean_squared_logarithmic_error: 5.0557 - val_loss: 5.2757 - val_mean_squared_logarithmic_error: 5.2757\n",
      "Epoch 5/10\n",
      "1/1 [==============================] - 0s 40ms/step - loss: 5.3095 - mean_squared_logarithmic_error: 5.3095 - val_loss: 5.1588 - val_mean_squared_logarithmic_error: 5.1588\n",
      "Epoch 6/10\n",
      "1/1 [==============================] - 0s 41ms/step - loss: 5.1424 - mean_squared_logarithmic_error: 5.1424 - val_loss: 5.0343 - val_mean_squared_logarithmic_error: 5.0343\n",
      "Epoch 7/10\n",
      "1/1 [==============================] - 0s 40ms/step - loss: 4.8124 - mean_squared_logarithmic_error: 4.8124 - val_loss: 4.9886 - val_mean_squared_logarithmic_error: 4.9886\n",
      "Epoch 8/10\n",
      "1/1 [==============================] - 0s 39ms/step - loss: 4.5221 - mean_squared_logarithmic_error: 4.5221 - val_loss: 5.0633 - val_mean_squared_logarithmic_error: 5.0633\n",
      "Epoch 9/10\n",
      "1/1 [==============================] - 0s 42ms/step - loss: 4.4557 - mean_squared_logarithmic_error: 4.4557 - val_loss: 5.2079 - val_mean_squared_logarithmic_error: 5.2079\n",
      "Epoch 10/10\n",
      "1/1 [==============================] - 0s 41ms/step - loss: 4.4691 - mean_squared_logarithmic_error: 4.4691 - val_loss: 5.2762 - val_mean_squared_logarithmic_error: 5.2762\n"
     ]
    }
   ],
   "source": [
    "# loss function\n",
    "msle = MeanSquaredLogarithmicError()\n",
    "model.compile(\n",
    "    loss=msle, \n",
    "    optimizer=Adam(learning_rate=learning_rate), \n",
    "    metrics=[msle]\n",
    ")\n",
    "# train the model\n",
    "history = model.fit(\n",
    "    X_train.values, \n",
    "    y_train.values, \n",
    "    epochs=10, \n",
    "    batch_size=64,\n",
    "    validation_split=0.2\n",
    ")"
   ]
  },
  {
   "cell_type": "code",
   "execution_count": 26,
   "metadata": {
    "execution": {
     "iopub.execute_input": "2024-05-05T13:14:02.045121Z",
     "iopub.status.busy": "2024-05-05T13:14:02.044087Z",
     "iopub.status.idle": "2024-05-05T13:14:02.274263Z",
     "shell.execute_reply": "2024-05-05T13:14:02.273258Z",
     "shell.execute_reply.started": "2024-05-05T13:14:02.045059Z"
    }
   },
   "outputs": [
    {
     "data": {
      "image/png": "[encoded data removed]",
      "text/plain": [
       "<Figure size 432x288 with 1 Axes>"
      ]
     },
     "metadata": {
      "needs_background": "light"
     },
     "output_type": "display_data"
    }
   ],
   "source": [
    "def plot_history(history, key):\n",
    "  plt.plot(history.history[key])\n",
    "  plt.plot(history.history['val_'+key])\n",
    "  plt.xlabel(\"Epochs\")\n",
    "  plt.ylabel(key)\n",
    "  plt.legend([key, 'val_'+key])\n",
    "  plt.show()\n",
    "# Plot the history\n",
    "plot_history(history, 'mean_squared_logarithmic_error')"
   ]
  },
  {
   "cell_type": "markdown",
   "metadata": {},
   "source": [
    "We can see that as epochs increases the loss decreases"
   ]
  },
  {
   "cell_type": "code",
   "execution_count": 27,
   "metadata": {
    "execution": {
     "iopub.execute_input": "2024-05-05T13:14:06.378192Z",
     "iopub.status.busy": "2024-05-05T13:14:06.377336Z",
     "iopub.status.idle": "2024-05-05T13:14:06.385577Z",
     "shell.execute_reply": "2024-05-05T13:14:06.384393Z",
     "shell.execute_reply.started": "2024-05-05T13:14:06.378149Z"
    }
   },
   "outputs": [
    {
     "data": {
      "text/plain": [
       "7"
      ]
     },
     "execution_count": 27,
     "metadata": {},
     "output_type": "execute_result"
    }
   ],
   "source": [
    "X_test.count()"
   ]
  },
  {
   "cell_type": "code",
   "execution_count": 28,
   "metadata": {
    "execution": {
     "iopub.execute_input": "2024-05-05T13:14:09.471155Z",
     "iopub.status.busy": "2024-05-05T13:14:09.470561Z",
     "iopub.status.idle": "2024-05-05T13:14:09.944734Z",
     "shell.execute_reply": "2024-05-05T13:14:09.943429Z",
     "shell.execute_reply.started": "2024-05-05T13:14:09.471110Z"
    }
   },
   "outputs": [],
   "source": [
    "X_test['prediction'] = model.predict(X_test)"
   ]
  },
  {
   "cell_type": "code",
   "execution_count": 29,
   "metadata": {
    "execution": {
     "iopub.execute_input": "2024-05-05T13:14:14.035463Z",
     "iopub.status.busy": "2024-05-05T13:14:14.034043Z",
     "iopub.status.idle": "2024-05-05T13:14:14.047227Z",
     "shell.execute_reply": "2024-05-05T13:14:14.046403Z",
     "shell.execute_reply.started": "2024-05-05T13:14:14.035402Z"
    }
   },
   "outputs": [
    {
     "data": {
      "text/plain": [
       "ra_deg               7\n",
       "dec_deg              7\n",
       "instrument_name      7\n",
       "collection           7\n",
       "filter               7\n",
       "exposure_duration    7\n",
       "stc_s                7\n",
       "observation_oid      7\n",
       "time_diff            7\n",
       "dtype: int64"
      ]
     },
     "execution_count": 29,
     "metadata": {},
     "output_type": "execute_result"
    }
   ],
   "source": [
    "y_test.count()"
   ]
  },
  {
   "cell_type": "code",
   "execution_count": 30,
   "metadata": {
    "execution": {
     "iopub.execute_input": "2024-05-05T13:14:17.873162Z",
     "iopub.status.busy": "2024-05-05T13:14:17.872562Z",
     "iopub.status.idle": "2024-05-05T13:14:18.130253Z",
     "shell.execute_reply": "2024-05-05T13:14:18.129245Z",
     "shell.execute_reply.started": "2024-05-05T13:14:17.873118Z"
    }
   },
   "outputs": [
    {
     "data": {
      "image/png": "[encoded data removed]",
      "text/plain": [
       "<Figure size 432x288 with 1 Axes>"
      ]
     },
     "metadata": {
      "needs_background": "light"
     },
     "output_type": "display_data"
    }
   ],
   "source": [
    "plt.hist(X_test['prediction']);"
   ]
  },
  {
   "cell_type": "markdown",
   "metadata": {},
   "source": [
    "# We can see here that target names by 2.5 and 17.5 are the ones predicted to happen in most scenarios thus all matters to ensure their operationalization have to be taken in terms of observatories constructed, costs optimized and staff hired for statistical analysis and astro physics research on these targets and their safety measures\n",
    "# We also have to further analyze sattelite requirments for these events"
   ]
  },
  {
   "cell_type": "code",
   "execution_count": null,
   "metadata": {},
   "outputs": [],
   "source": []
  }
 ],
 "metadata": {
  "kaggle": {
   "accelerator": "none",
   "dataSources": [
    {
     "datasetId": 1446615,
     "sourceId": 2392648,
     "sourceType": "datasetVersion"
    }
   ],
   "dockerImageVersionId": 30178,
   "isGpuEnabled": false,
   "isInternetEnabled": false,
   "language": "python",
   "sourceType": "notebook"
  },
  "kernelspec": {
   "display_name": "Python 3 (ipykernel)",
   "language": "python",
   "name": "python3"
  },
  "language_info": {
   "codemirror_mode": {
    "name": "ipython",
    "version": 3
   },
   "file_extension": ".py",
   "mimetype": "text/x-python",
   "name": "python",
   "nbconvert_exporter": "python",
   "pygments_lexer": "ipython3",
   "version": "3.11.7"
  }
 },
 "nbformat": 4,
 "nbformat_minor": 4
}
